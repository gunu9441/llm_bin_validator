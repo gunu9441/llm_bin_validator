{
 "cells": [
  {
   "cell_type": "markdown",
   "id": "3f64c7e6",
   "metadata": {},
   "source": [
    "## 환경설정"
   ]
  },
  {
   "cell_type": "code",
   "execution_count": 16,
   "id": "c476c5a8",
   "metadata": {},
   "outputs": [
    {
     "data": {
      "text/plain": [
       "True"
      ]
     },
     "execution_count": 16,
     "metadata": {},
     "output_type": "execute_result"
    }
   ],
   "source": [
    "from dotenv import load_dotenv\n",
    "load_dotenv()"
   ]
  },
  {
   "cell_type": "code",
   "execution_count": 2,
   "id": "a7864d59",
   "metadata": {},
   "outputs": [
    {
     "name": "stderr",
     "output_type": "stream",
     "text": [
      "\u001b[2mResolved \u001b[1m212 packages\u001b[0m \u001b[2min 4ms\u001b[0m\u001b[0m\n",
      "\u001b[2mAudited \u001b[1m191 packages\u001b[0m \u001b[2min 0.11ms\u001b[0m\u001b[0m\n"
     ]
    }
   ],
   "source": [
    "!uv add langchain langchain-openai langchain-community pypdf langchain-postgres langchain_huggingface sentence-transformers"
   ]
  },
  {
   "cell_type": "code",
   "execution_count": 3,
   "id": "ad763c42",
   "metadata": {},
   "outputs": [
    {
     "name": "stderr",
     "output_type": "stream",
     "text": [
      "c:\\Users\\Administrator\\workspace\\llm_bin_validator\\.venv\\Lib\\site-packages\\tqdm\\auto.py:21: TqdmWarning: IProgress not found. Please update jupyter and ipywidgets. See https://ipywidgets.readthedocs.io/en/stable/user_install.html\n",
      "  from .autonotebook import tqdm as notebook_tqdm\n"
     ]
    }
   ],
   "source": [
    "import os\n",
    "from langchain_openai import ChatOpenAI\n",
    "from langchain_core.prompts import ChatPromptTemplate\n",
    "from langchain_core.output_parsers import StrOutputParser\n",
    "from langchain_community.document_loaders import PyPDFLoader\n",
    "from langchain.text_splitter import RecursiveCharacterTextSplitter\n",
    "import tempfile"
   ]
  },
  {
   "cell_type": "markdown",
   "id": "449b525a",
   "metadata": {},
   "source": [
    "### PDF 로드 함수 및 데이터 추출"
   ]
  },
  {
   "cell_type": "code",
   "execution_count": 4,
   "id": "93f35c4d",
   "metadata": {},
   "outputs": [
    {
     "name": "stdout",
     "output_type": "stream",
     "text": [
      "1\n"
     ]
    },
    {
     "data": {
      "text/plain": [
       "[     0          1           2       3     4      5      6     7     8     9   \\\n",
       " 0    순번        BIN  자체카드\\n구  분     발급사  기관코드    브랜드   회원구분  카드구분  카드등급  전건대행   \n",
       " 1  2069    9407-57          자체  헥토파이낸셜    57  LOCAL     개인    체크   플러스  대행불가   \n",
       " 2  2070    9200-57          자체  헥토파이낸셜    57  LOCAL  개인+기업    체크   플러스  대행불가   \n",
       " 3  2071  5302-0035          자체  헥토파이낸셜    57     MC     개인    체크   플러스  대행불가   \n",
       " 4  2072    9483-51          자체    비씨카드    50  LOCAL     개인    신용    PT  대행가능   \n",
       " 5  2073    9483-52          자체    비씨카드    50  LOCAL     기업    신용    PT  대행가능   \n",
       " 6  2074    5465-17          자체    비씨카드    50     MC     개인    신용    PT  대행가능   \n",
       " 7  2075    5483-64          자체    비씨카드    50     MC     기업    신용    PT  대행가능   \n",
       " 8  2076    5485-27          자체    수협은행    07     MC     개인    신용    PT  대행가능   \n",
       " \n",
       "      10    11        12  \n",
       " 0  신용대행  건별대행  할부가능\\n여부  \n",
       " 1  거래중계  대행불가      할부불가  \n",
       " 2  거래중계  대행불가      할부불가  \n",
       " 3  거래중계  대행불가      할부불가  \n",
       " 4  대행가능  대행불가      할부가능  \n",
       " 5  대행가능  대행불가      할부불가  \n",
       " 6  대행가능  대행불가      할부가능  \n",
       " 7  대행가능  대행불가      할부불가  \n",
       " 8  대행가능  대행불가      할부가능  ]"
      ]
     },
     "execution_count": 4,
     "metadata": {},
     "output_type": "execute_result"
    }
   ],
   "source": [
    "from langchain_community.document_loaders import PyPDFLoader\n",
    "import camelot\n",
    "\n",
    "pdf_path = \"./bin_pdf_data/BIN_업무협조_요청_VAN_20250801.pdf\"\n",
    "\n",
    "loader = PyPDFLoader(pdf_path)\n",
    "pages = loader.load() \n",
    "\n",
    "# 텍스트 로드\n",
    "total_document = \"\\n\".join([page.page_content for page in pages])\n",
    "\n",
    "# 표 \n",
    "# 2) 표 로드 (텍스트 기반 PDF에서만)\n",
    "tables = camelot.read_pdf(pdf_path, pages=\"all\", flavor=\"lattice\")  # or 'stream'\n",
    "print(len(tables))\n",
    "dfs = [t.df for t in tables]  # 각 표를 pandas DataFrame으로\n",
    "\n",
    "dfs"
   ]
  },
  {
   "cell_type": "code",
   "execution_count": 5,
   "id": "096fb1a8",
   "metadata": {},
   "outputs": [
    {
     "data": {
      "text/plain": [
       "'정산팀-40-00083\\n순번 BIN 자체카드\\n구  분 발급사 기관코드 브랜드 회원구분 카드구분 카드등급 전건대행 신용대행 건별대행 할부가능\\n여부\\n2069 9407-57 자체 헥토파이낸셜 57 LOCAL 개인 체크 플러스 대행불가 거래중계 대행불가 할부불가\\n2070 9200-57 자체 헥토파이낸셜 57 LOCAL 개인+기업 체크 플러스 대행불가 거래중계 대행불가 할부불가\\n2071 5302-0035 자체 헥토파이낸셜 57 MC 개인 체크 플러스 대행불가 거래중계 대행불가 할부불가\\n2072 9483-51 자체 비씨카드 50 LOCAL 개인 신용 PT 대행가능 대행가능 대행불가 할부가능\\n2073 9483-52 자체 비씨카드 50 LOCAL 기업 신용 PT 대행가능 대행가능 대행불가 할부불가\\n2074 5465-17 자체 비씨카드 50 MC 개인 신용 PT 대행가능 대행가능 대행불가 할부가능\\n2075 5483-64 자체 비씨카드 50 MC 기업 신용 PT 대행가능 대행가능 대행불가 할부불가\\n2076 5485-27 자체 수협은행 07 MC 개인 신용 PT 대행가능 대행가능 대행불가 할부가능\\n * 신규고객사 \"헥토파이낸셜\" 매출표 표기 : 헥토카드\\nㅇ 일정에 따른 BIN번호 전산반영 및 회신\\nㅇ BIN자체관리 가맹점으로 BIN번호 재통지 및 반영여부 확인 요망\\n  참      조 : 신용카드 담당 부서장\\n비씨카드주식회사\\n서울시 중구 을지로 170 을지트윈타워\\n담당자 : 정산팀 이성희 대리, T: 02)520-8373, E: ssung@bccard.com\\n  문서번호 : 2025-08-01\\n  수      신 : 수신처 참조\\n  제      목 : [비씨카드] BIN 관련 업무협조 요청\\n1.\\xa0귀 사(원)의 무궁한 발전을 기원합니다.\\n2.\\xa0당사 신규 BIN(Bank Identification Number) 생성에 따라 다음과 같이 요청하오니 협조하여 주시기 바랍니다.\\nㅇ 할부대행은 6개월 이내에서 가능합니다.\\n3. 내  용\\n      가. 신규 BIN 등록\\n     ㅇ 다음의 신규 BIN은 2025.08.11(월)까지 전산반영 요청 (개발기 등록 포함)\\nㅇ 자체카드구분이 “자체브랜드”인 경우에는 ‘비씨카드’가 아니라 해당 \\'발급사의 자체카드\\'로 등록하여야 합니다.\\nㅇ 매출표 표기는 [발급사명 + 거래형태]로 표기하여 주시기 바랍니다. (Hybrid카드 반영).\\n   - 체크카드는 거래형태 \\'체크\\', 신용카드는 거래형태 \\'신용\\'으로 표기\\nㅇ 기관코드는 비씨카드에서 관리하는 은행 및 카드사 코드입니다.\\n 4. 요청사항\\n한국정보통신㈜, ㈜케이에스넷, 나이스정보통신㈜, (사)금융결제원, 한국신용카드결제㈜, KIS정보통신㈜, 한국결제네트워크(유), ㈜코밴, ㈜나이스페이먼츠,\\n㈜스마트로, ㈜다우데이타, NHNKCP(주), 코레일네트웍스㈜, ㈜섹타나인, 브이피㈜, 토스페이먼트(주) , ㈜하렉스인포텍, ㈜티머니, 농협경제지주,\\n㈜케이지이니시스, ㈜이마트, ㈜이랜드, ㈜현대홈쇼핑, ㈜신세계아이앤씨 , ㈜현대백화점, ㈜티비허브  (26개)\\n비 씨 카 드 주 식 회 사\\n정 산 팀 장\\n1'"
      ]
     },
     "execution_count": 5,
     "metadata": {},
     "output_type": "execute_result"
    }
   ],
   "source": [
    "total_document"
   ]
  },
  {
   "cell_type": "code",
   "execution_count": 6,
   "id": "6d1c0613",
   "metadata": {},
   "outputs": [],
   "source": [
    "from pydantic import BaseModel, Field\n",
    "from typing_extensions import TypedDict, Literal\n",
    "from typing import List, Optional\n",
    "\n",
    "# PDF 표 구조 \n",
    "class BinRow(BaseModel):\n",
    "    bin: str  = Field(description=\"BIN번호(8자리 또는 6자리)\")                                                      # BIN번호 \"8자리(또는 6자리) BIN 문자열\"\n",
    "    issuer: str = Field(description=\"발급사\")                                                                     # 발급사\n",
    "    instCd: str = Field(description=\"기관코드\")                                                                   # 기관코드\n",
    "    brand: str  = Field(description=\"브랜드사\")                                                                   # 브랜드사\n",
    "    memberType: Literal[\"개인\",\"법인\",\"개인+기업\"] = Field(description=\"회원구분\")                                   # 회원구분\n",
    "    cardType:   Literal[\"체크\", \"신용\", \"선불\"] = Field(description=\"카드구분\")                                     # 카드구분\n",
    "    cardRank:   Literal[\"플러스\", \"PT\", \"골드\", \"체크\", \"일반\", \"우량\"] = Field(description=\"대행한도등급\")           # 대행한도등급\n",
    "    agentFull:  Literal[\"Y\",\"N\"]  = Field(description=\"전건대행\")                                                 # 전건대행\n",
    "    agentCredit: Literal[\"Y\",\"N\"] = Field(description=\"신용대행\")                                                 # 신용대행\n",
    "    agentPerTxn: Literal[\"Y\",\"N\"] = Field(description=\"건별대행\")                                                 # 건별대행    \n",
    "    installmentYN: Literal[\"Y\",\"N\"] = Field(description=\"할부 가능여부\")                                           # 할부 가능여부\n",
    "\n",
    "class ExtractionResult(BaseModel):\n",
    "    rows: List[BinRow]  = []\n",
    "    notes: Optional[str]\n"
   ]
  },
  {
   "cell_type": "code",
   "execution_count": 7,
   "id": "9b53c42a",
   "metadata": {},
   "outputs": [
    {
     "name": "stdout",
     "output_type": "stream",
     "text": [
      "The output should be formatted as a JSON instance that conforms to the JSON schema below.\n",
      "\n",
      "As an example, for the schema {\"properties\": {\"foo\": {\"title\": \"Foo\", \"description\": \"a list of strings\", \"type\": \"array\", \"items\": {\"type\": \"string\"}}}, \"required\": [\"foo\"]}\n",
      "the object {\"foo\": [\"bar\", \"baz\"]} is a well-formatted instance of the schema. The object {\"properties\": {\"foo\": [\"bar\", \"baz\"]}} is not well-formatted.\n",
      "\n",
      "Here is the output schema:\n",
      "```\n",
      "{\"$defs\": {\"BinRow\": {\"properties\": {\"bin\": {\"description\": \"BIN번호(8자리 또는 6자리)\", \"title\": \"Bin\", \"type\": \"string\"}, \"issuer\": {\"description\": \"발급사\", \"title\": \"Issuer\", \"type\": \"string\"}, \"instCd\": {\"description\": \"기관코드\", \"title\": \"Instcd\", \"type\": \"string\"}, \"brand\": {\"description\": \"브랜드사\", \"title\": \"Brand\", \"type\": \"string\"}, \"memberType\": {\"description\": \"회원구분\", \"enum\": [\"개인\", \"법인\", \"개인+기업\"], \"title\": \"Membertype\", \"type\": \"string\"}, \"cardType\": {\"description\": \"카드구분\", \"enum\": [\"체크\", \"신용\", \"선불\"], \"title\": \"Cardtype\", \"type\": \"string\"}, \"cardRank\": {\"description\": \"대행한도등급\", \"enum\": [\"플러스\", \"PT\", \"골드\", \"체크\", \"일반\", \"우량\"], \"title\": \"Cardrank\", \"type\": \"string\"}, \"agentFull\": {\"description\": \"전건대행\", \"enum\": [\"Y\", \"N\"], \"title\": \"Agentfull\", \"type\": \"string\"}, \"agentCredit\": {\"description\": \"신용대행\", \"enum\": [\"Y\", \"N\"], \"title\": \"Agentcredit\", \"type\": \"string\"}, \"agentPerTxn\": {\"description\": \"건별대행\", \"enum\": [\"Y\", \"N\"], \"title\": \"Agentpertxn\", \"type\": \"string\"}, \"installmentYN\": {\"description\": \"할부 가능여부\", \"enum\": [\"Y\", \"N\"], \"title\": \"Installmentyn\", \"type\": \"string\"}}, \"required\": [\"bin\", \"issuer\", \"instCd\", \"brand\", \"memberType\", \"cardType\", \"cardRank\", \"agentFull\", \"agentCredit\", \"agentPerTxn\", \"installmentYN\"], \"title\": \"BinRow\", \"type\": \"object\"}}, \"properties\": {\"rows\": {\"default\": [], \"items\": {\"$ref\": \"#/$defs/BinRow\"}, \"title\": \"Rows\", \"type\": \"array\"}, \"notes\": {\"anyOf\": [{\"type\": \"string\"}, {\"type\": \"null\"}], \"title\": \"Notes\"}}, \"required\": [\"notes\"]}\n",
      "```\n"
     ]
    }
   ],
   "source": [
    "from langchain_openai import ChatOpenAI\n",
    "from langchain_core.prompts import ChatPromptTemplate\n",
    "from langchain_core.runnables import RunnableParallel, RunnablePassthrough\n",
    "from langchain.output_parsers import StructuredOutputParser, PydanticOutputParser\n",
    "\n",
    "\n",
    "#parser = StructuredOutputParser.from_typed_schema(ExtractionResult)\n",
    "parser = PydanticOutputParser(pydantic_object=ExtractionResult)\n",
    "# print(parser.get_format_instructions())\n",
    "print(parser.get_format_instructions())"
   ]
  },
  {
   "cell_type": "code",
   "execution_count": 8,
   "id": "6765169e",
   "metadata": {},
   "outputs": [],
   "source": [
    "from langchain_openai import ChatOpenAI\n",
    "from langchain_core.prompts import ChatPromptTemplate\n",
    "from langchain_core.runnables import RunnableParallel, RunnablePassthrough\n",
    "from langchain.output_parsers import StructuredOutputParser\n",
    "\n",
    "model = ChatOpenAI(model=\"gpt-4.1-mini\")\n",
    "\n",
    "\n",
    "system = \"\"\"\n",
    "당신은 카드 BIN 데이터 추출 보조자입니다.\n",
    "다음 규칙으로만 JSON을 생성하세요:\n",
    "- JSON 스키마를 엄격히 준수\n",
    "- 불확실 시 '?' 사용\n",
    "- 근거 문맥을 source_text에 200자 이내로 첨부\n",
    "- 페이지 번호를 page_ref에 기록\n",
    "\"\"\"\n",
    "\n",
    "human = \"\"\"PDF에서 추출한 BIN번호 관련 dataframe이 아래에 제공됩니다.\n",
    "BIN번호, 발급사, 기관코드, 브랜드, 회원구분, 카드구분, 카드등급, 완전대행, 신용대행, 건별대행, 할부가능여부 모두 표준화해 rows 배열로 반환하세요.\n",
    "텍스트:\n",
    "{joined_text}\n",
    "\n",
    "표(있다면 CSV로 직렬화됨):\n",
    "{tables_csv}\n",
    "\n",
    "반환은 반드시 유효한 JSON 한 덩어리만:\n",
    "{format_instructions}\n",
    "\"\"\"\n",
    "\n",
    "prompt = ChatPromptTemplate.from_messages([\n",
    "    (\"system\", system),\n",
    "    (\"human\", human)\n",
    "])\n",
    "\n",
    "# 텍스트 페이지 합치기 (너무 길면 샘플링/요약 후 단계적 호출)\n",
    "joined_text = \"\\n\\n\".join([f\"[p{idx+1}] {d.page_content}\" for idx, d in enumerate(pages)])\n",
    "\n",
    "def df_to_csv(df):\n",
    "    import io\n",
    "    return df.to_csv(index=False)\n",
    "\n",
    "tables_csv = \"\\n\\n\".join([df_to_csv(df) for df in dfs]) if len(dfs) else \"N/A\"\n",
    "\n",
    "chain = prompt | model | parser\n",
    "result = chain.invoke({\n",
    "    \"joined_text\": joined_text[:100000],  # 토큰 초과 방지\n",
    "    \"tables_csv\": tables_csv[:50000],\n",
    "    \"format_instructions\": parser.get_format_instructions()\n",
    "})"
   ]
  },
  {
   "cell_type": "code",
   "execution_count": 9,
   "id": "edd4bd08",
   "metadata": {},
   "outputs": [
    {
     "data": {
      "text/plain": [
       "[BinRow(bin='940757', issuer='헥토파이낸셜', instCd='57', brand='LOCAL', memberType='개인', cardType='체크', cardRank='플러스', agentFull='N', agentCredit='N', agentPerTxn='N', installmentYN='N'),\n",
       " BinRow(bin='920057', issuer='헥토파이낸셜', instCd='57', brand='LOCAL', memberType='개인+기업', cardType='체크', cardRank='플러스', agentFull='N', agentCredit='N', agentPerTxn='N', installmentYN='N'),\n",
       " BinRow(bin='53020035', issuer='헥토파이낸셜', instCd='57', brand='MC', memberType='개인', cardType='체크', cardRank='플러스', agentFull='N', agentCredit='N', agentPerTxn='N', installmentYN='N'),\n",
       " BinRow(bin='948351', issuer='비씨카드', instCd='50', brand='LOCAL', memberType='개인', cardType='신용', cardRank='PT', agentFull='Y', agentCredit='Y', agentPerTxn='N', installmentYN='Y'),\n",
       " BinRow(bin='948352', issuer='비씨카드', instCd='50', brand='LOCAL', memberType='법인', cardType='신용', cardRank='PT', agentFull='Y', agentCredit='Y', agentPerTxn='N', installmentYN='N'),\n",
       " BinRow(bin='546517', issuer='비씨카드', instCd='50', brand='MC', memberType='개인', cardType='신용', cardRank='PT', agentFull='Y', agentCredit='Y', agentPerTxn='N', installmentYN='Y'),\n",
       " BinRow(bin='548364', issuer='비씨카드', instCd='50', brand='MC', memberType='법인', cardType='신용', cardRank='PT', agentFull='Y', agentCredit='Y', agentPerTxn='N', installmentYN='N'),\n",
       " BinRow(bin='548527', issuer='수협은행', instCd='07', brand='MC', memberType='개인', cardType='신용', cardRank='PT', agentFull='Y', agentCredit='Y', agentPerTxn='N', installmentYN='Y')]"
      ]
     },
     "execution_count": 9,
     "metadata": {},
     "output_type": "execute_result"
    }
   ],
   "source": [
    "result.rows"
   ]
  },
  {
   "cell_type": "code",
   "execution_count": 22,
   "id": "ac695edf",
   "metadata": {},
   "outputs": [
    {
     "name": "stdout",
     "output_type": "stream",
     "text": [
      "1\n",
      "[{'card_bin': '920057', 'sub_bin_ref_yn': 'N', 'card_no_len': 16, 'iss_inst_cd': '0100', 'stip_lmt_lvl_cd': '00', 'card_nm': '헥토카드', 'psn_corp_card_cl': '1', 'card_brand_cd': 'L', 'card_typ_cd': '1', 'oil_taxf_card_cl': None, 'mbr_cmpy_cd': '057', 'one_card_typ': None, 'one_card_co_cd': None, 'oil_purch_card_cl': None, 'ist_psbl_yn': 'N', 'stip_psbl_yn': 'N', 'stip_ist_psbl_yn': 'N', 'stip_lmt_aply_yn': 'Y', 'use_yn': 'Y', 'day1_max_use_cnt': 0, 'day3_max_use_cnt': 0, 'time1_max_lmt_amt': 0, 'day1_max_lmt_amt': 0, 'day3_max_lmt_amt': 0, 'ist_day1_max_use_cnt': 0, 'ist_day3_max_use_cnt': 0, 'ist_time1_max_lmt_amt': 0, 'ist_day1_max_lmt_amt': 0, 'ist_day3_max_lmt_amt': 0, 'chk_digt_rul': 'check_modules_10', 'skt_memb_lvl': None, 'skt_memb_typ': None, 'bc_main_cl': None, 'wgt_cl': 'N', 'rgt_dt': '20250806', 'rgt_tm': '151716'}]\n"
     ]
    }
   ],
   "source": [
    "from sqlalchemy import create_engine, text\n",
    "from sqlalchemy.engine import Engine, Result\n",
    "\n",
    "engine_url = os.getenv(\"ORACLE_ENGINE_URL\")\n",
    "engine: Engine = create_engine(engine_url, pool_pre_ping=True)  # 필요 시 echo=True\n",
    "\n",
    "stmt = text(\n",
    "    \"\"\"\n",
    "    SELECT *\n",
    "    FROM INF_CARD_BIN\n",
    "    WHERE 1=1\n",
    "    AND CARD_BIN = :bin\n",
    "    \"\"\"\n",
    ")\n",
    "params = {\n",
    "    \"bin\": \"920057\"\n",
    "}\n",
    "\n",
    "with engine.connect() as conn:\n",
    "    result: Result = conn.execute(stmt, params)\n",
    "    rows = [dict(r._mapping) for r in result.fetchall()]\n",
    "\n",
    "print(len(rows))\n",
    "print(rows)\n"
   ]
  },
  {
   "cell_type": "code",
   "execution_count": null,
   "id": "9a9cfd28",
   "metadata": {},
   "outputs": [],
   "source": []
  },
  {
   "cell_type": "code",
   "execution_count": 5,
   "id": "b388e13a",
   "metadata": {},
   "outputs": [
    {
     "name": "stdout",
     "output_type": "stream",
     "text": [
      "VIP 콜센터 전화번호는 1566-7890입니다.\n"
     ]
    }
   ],
   "source": [
    "prompt_template = \"\"\"\n",
    "당신은 금융 전문가입니다. 다음 문서를 읽고 사용자의 질문에 대한 답변을 제공해주세요.\n",
    "\n",
    "<document>\n",
    "{document}\n",
    "</document>\n",
    "\n",
    "<question>\n",
    "{question}\n",
    "</question>\n",
    "\n",
    "** 답변 ** :\n",
    "\"\"\"\n",
    "\n",
    "prompt = ChatPromptTemplate.from_template(prompt_template)\n",
    "llm = ChatOpenAI(model=\"gpt-4o-mini\", temperature=0)\n",
    "\n",
    "chain = prompt | llm | StrOutputParser()\n",
    "\n",
    "result = chain.invoke({\"document\": total_document, \"question\": \"VIP 콜센터 전화번호?\"})\n",
    "\n",
    "print(result)"
   ]
  },
  {
   "cell_type": "markdown",
   "id": "de0ae312",
   "metadata": {},
   "source": [
    "# 텍스트 분할(Text Splitting) \n",
    "\n",
    "- 대규모 텍스트 문서를 처리할 때 매우 중요한 전처리 단계\n",
    "- 고려사항:\n",
    "    1. 문서의 구조와 형식\n",
    "    2. 원하는 청크 크기\n",
    "    3. 문맥 보존의 중요도\n",
    "    4. 처리 속도 \n",
    "\n",
    "\n",
    "# Document Loader\n",
    "[https://python.langchain.com/api_reference/community/document_loaders.html#]\n",
    "\n",
    "1. CharacterTextSplitter\n",
    "- 분할 기준: 지정된 단일 문자(예: \\n, 공백 등)를 기준으로 텍스트를 분할합니다.​\n",
    "- 특징:\n",
    "단순한 문자 기반 분할 방식으로, 구조화되지 않은 텍스트에 적합합니다.​\n",
    "문맥이나 의미를 고려하지 않기 때문에, 문장이나 단어가 중간에 잘릴 수 있습니다.\n",
    "\n",
    "2. RecursiveCharacterTextSplitter\n",
    "- 분할 기준: 여러 구분자(기본값: [\"\\n\\n\", \"\\n\", \" \", \"\"])를 우선순위에 따라 재귀적으로 적용하여 텍스트를 분할합니다.​\n",
    "- 특징:\n",
    "문단 → 문장 → 단어 순으로 분할을 시도하여, 텍스트의 의미와 문맥을 최대한 보존합니다.​\n",
    "구조화된 텍스트나 자연어 처리에서 의미 단위를 유지하려는 경우에 적합합니다.\n",
    "\n",
    "3. TokenTextSplitter\n",
    "- 분할 기준: 토큰 수를 기준으로 텍스트를 분할합니다.​\n",
    "- 특징: LLM의 토큰 제한을 고려하여 텍스트를 분할하므로, 모델 입력에 최적화된 형태로 텍스트를 준비할 수 있습니다.​ 언어별 토크나이저를 활용하여 정확한 토큰 단위 분할이 가능합니다\n"
   ]
  },
  {
   "cell_type": "code",
   "execution_count": null,
   "id": "3235f6ef",
   "metadata": {},
   "outputs": [],
   "source": [
    "from langchain_text_splitters import CharacterTextSplitter \n",
    "\n",
    "# 텍스트 분할기 초기화 (기본 설정값 적용 )\n",
    "text_splitter = CharacterTextSplitter(\n",
    "\n",
    "    # CharacterTextSplitter의 기본 설정값\n",
    "    separator = \"\\n\\n\",         # 청크 구분자: 두 개의 개행문자\n",
    "    is_separator_regex = False,  # 구분자가 정규식인지 여부\n",
    "\n",
    "    # TextSplitter의 기본 설정값\n",
    "    chunk_size = 500,          # 청크 길이\n",
    "    chunk_overlap = 100,        # 청크 중첩\n",
    "    length_function = len,      # 길이 함수 (문자열 길이)\n",
    "    keep_separator = False,     # 구분자 유지 여부\n",
    "    add_start_index = False,   # 시작 인덱스 추가 여부\n",
    "    strip_whitespace = True,   # 공백 제거 여부\n",
    ")\n",
    "\n",
    "# 텍스트 분할 - split_text() 메서드 사용\n",
    "texts = text_splitter.split_text(total_document)\n",
    "\n",
    "# 분할된 텍스트 개수 출력\n",
    "print(f'분할된 텍스트 개수: {len(texts)}')\n",
    "\n",
    "# 첫 번째 분할된 텍스트 출력\n",
    "print(f'첫 번째 분할된 텍스트: {texts[0]}')\n",
    "\n",
    "print(f'--------------------------------')"
   ]
  },
  {
   "cell_type": "code",
   "execution_count": 31,
   "id": "67ab79b2",
   "metadata": {},
   "outputs": [
    {
     "name": "stdout",
     "output_type": "stream",
     "text": [
      "생성된 텍스트 청크 수: 85\n",
      "각 청크의 길이: [20, 488, 491, 490, 463, 469, 205, 497, 474, 459, 459, 499, 315, 483, 473, 493, 477, 485, 482, 455, 477, 470, 343, 497, 465, 442, 458, 477, 229, 469, 493, 452, 487, 493, 460, 324, 481, 474, 491, 484, 476, 488, 364, 458, 490, 481, 495, 376, 500, 477, 460, 452, 474, 474, 492, 496, 239, 499, 482, 468, 311, 485, 472, 191, 489, 491, 493, 497, 491, 454, 479, 239, 497, 484, 495, 333, 475, 463, 490, 326, 491, 450, 497, 134, 177]\n",
      "\n",
      "BC 플래티늄 카드 상품서비스 가이드\n",
      "----------------------------------------------------------------------------------------------------\n",
      "BC 플래티늄 카드 상품서비스 가이드\n",
      "====================================================================================================\n",
      "\n",
      "01\n",
      "BC PLATINUM \n",
      "SERVICE\n",
      "당신의 가치를 만드는 카드 \n",
      "BC 플래티늄카드\n",
      "회원님과 함께 신용사회의 새 지평을 열어온 비씨카드가 오랫동안 다져온 신용카드 \n",
      "서비스 노하우를 바탕으로 회원님을 VIP 회원으로 모시게 되었습니다. \n",
      "BC 플래티늄카드는 기존의 서비스와는 차별화되는 프리미엄급 서비스만을 제시\n",
      "하여 회원님을 차원이 다른 고품격의 세계로\n",
      "----------------------------------------------------------------------------------------------------\n",
      " 국내선 항공탑승시 동반자  \n",
      "항공권 무료 제공 서비스, 전세계 1,000여개 공항의 귀빈급 전용라운지 이용  \n",
      "서비스, 회원님의 사용내역을 바로 문자메세지로 통지하는 바로알림(SMS) 서비스, \n",
      "제주지역 렌터카 24시간 지원 서비스, 국내·외 호텔/렌터카 이용할인 및 우대  \n",
      "서비스, 여행상해, 휴일상해 및 골프상해,구매물품 분실 보상 뿐만 아니라 여행중\n",
      "====================================================================================================\n",
      "\n",
      "제주지역 렌터카 24시간 지원 서비스, 국내·외 호텔/렌터카 이용할인 및 우대  \n",
      "서비스, 여행상해, 휴일상해 및 골프상해,구매물품 분실 보상 뿐만 아니라 여행중 \n",
      "불편에 따른 여행 불편 보상보험 및 골프용품 보상보험에 이르는 다양한 종합보험 \n",
      "서비스를 제공합니다. \n",
      "또한, 저희는 플래티늄카드 이용 및 서비스 이용을 지원하기 위해 BC VIP 전용 상담 \n",
      "\n",
      "----------------------------------------------------------------------------------------------------\n",
      "드.\n",
      "삶의 가치를 아시는 귀하께 드립니다.\n",
      "상품서비스 가이드\n",
      "※ 카드 신청 전 카드 상품별 연회비, 이용조건 등에 관한 세부 사항을 상품\n",
      "    설명서, 약관 및 홈페이지 에서 확인하시기 바랍니다 \n",
      "※ 서비스 이용 시 전월실적에 따른 이용 제한, 차등할인 및 이용한도 등 서비스\n",
      "     제공 기준은 'BC 카드 홈페이지 및 카드상품 안내장’ 에서 확인하시기\n",
      "====================================================================================================\n",
      "\n",
      "※ 서비스 이용 시 전월실적에 따른 이용 제한, 차등할인 및 이용한도 등 서비스\n",
      "     제공 기준은 'BC 카드 홈페이지 및 카드상품 안내장’ 에서 확인하시기\n",
      "     바랍니다.\n",
      "16 문화 서비스 \n",
      "· VIP 문화공연 할인\n",
      "· KBS 교향악단 정기연주회 초대 \n",
      "· 영화예매 할인\n",
      "· THE BC 매거진 제공\n",
      "19 다이닝 서비스 \n",
      "· 미각여행 초대권\n",
      "· VI\n",
      "----------------------------------------------------------------------------------------------------\n",
      "할부\n",
      "· 바로 알림(SMS) 무료가입\n",
      "23 가족카드 특별 서비스\n",
      "24 보험 서비스\n",
      "26 포인트 서비스\n",
      "28 제휴카드 서비스\n",
      "31 브랜드 서비스 안내\n",
      "02 서비스 유지 및 변경 안내 \n",
      "기본 서비스\n",
      "03 카드 이용 시 유의사항\n",
      "긴급 서비스\n",
      "04 연회비 및 국내·외 이용안내\n",
      "06 여행 서비스 \n",
      "· 국내선 동반자 무료항공권 제공 \n",
      "· 국내 특급호텔 무료숙박권 제공\n",
      "====================================================================================================\n",
      "\n",
      "기본 서비스\n",
      "03 카드 이용 시 유의사항\n",
      "긴급 서비스\n",
      "04 연회비 및 국내·외 이용안내\n",
      "06 여행 서비스 \n",
      "· 국내선 동반자 무료항공권 제공 \n",
      "· 국내 특급호텔 무료숙박권 제공 \n",
      "· 프리미엄 공항 리무진 & 밴 의전  \n",
      "· 공항라운지(Priority Pass Card)\n",
      "   멤버십 제공 \n",
      "· 국제선 항공권 할인 \n",
      "· 해외여행 Package 할인  \n",
      "· 해외\n",
      "----------------------------------------------------------------------------------------------------\n",
      "프클럽 주중 무료 이용 \n",
      "Contents\n",
      "※ 상환능력에 비해 신용카드 사용액이 과도할 경우, 귀하의 개인신용평점이 하락      \n",
      "      할 수 있습니다.\n",
      "※ 개인신용평점 하락 시 금융거래와 관련된 불이익이 발생할 수 있습니다.\n",
      "※ 일정기간 원리금(또는 대출금, 납부대금 등)을 연체할 경우, 모든 원리금을 변제할 \n",
      "      의무가 발생할 수 있습니다.\n",
      "====================================================================================================\n",
      "\n"
     ]
    }
   ],
   "source": [
    "from langchain_text_splitters import RecursiveCharacterTextSplitter\n",
    "\n",
    "# 재귀적 텍스트 분할기 초기화\n",
    "text_splitter = RecursiveCharacterTextSplitter(\n",
    "    chunk_size=500,             # 청크 크기\n",
    "    chunk_overlap=100,           # 청크 중 중복되는 부분 크기\n",
    "    length_function=len,         # 글자 수를 기준으로 분할\n",
    "    separators=[\"\\n\\n\", \"\\n\", \" \", \"\"],  # 구분자 - 재귀적으로 순차적으로 적용 \n",
    ")\n",
    "\n",
    "# split_documents() 메서드 사용 : Document 객체를 여러 개의 작은 청크 문서로 분할\n",
    "chunks = text_splitter.split_documents(pages)\n",
    "print(f\"생성된 텍스트 청크 수: {len(chunks)}\")\n",
    "print(f\"각 청크의 길이: {list(len(chunk.page_content) for chunk in chunks)}\")\n",
    "print()\n",
    "\n",
    "# 각 청크의 시작 부분과 끝 부분 확인 - 5개 청크만 출력\n",
    "for chunk in chunks[:5]:\n",
    "    print(chunk.page_content[:200])\n",
    "    print(\"-\" * 100)\n",
    "    print(chunk.page_content[-200:])\n",
    "    print(\"=\" * 100)\n",
    "    print()"
   ]
  }
 ],
 "metadata": {
  "kernelspec": {
   "display_name": ".venv",
   "language": "python",
   "name": "python3"
  },
  "language_info": {
   "codemirror_mode": {
    "name": "ipython",
    "version": 3
   },
   "file_extension": ".py",
   "mimetype": "text/x-python",
   "name": "python",
   "nbconvert_exporter": "python",
   "pygments_lexer": "ipython3",
   "version": "3.12.11"
  }
 },
 "nbformat": 4,
 "nbformat_minor": 5
}
