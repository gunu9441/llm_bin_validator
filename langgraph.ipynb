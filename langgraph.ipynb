{
 "cells": [
  {
   "cell_type": "code",
   "execution_count": 151,
   "metadata": {},
   "outputs": [
    {
     "data": {
      "text/plain": [
       "True"
      ]
     },
     "execution_count": 151,
     "metadata": {},
     "output_type": "execute_result"
    }
   ],
   "source": [
    "from dotenv import load_dotenv\n",
    "load_dotenv()"
   ]
  },
  {
   "cell_type": "code",
   "execution_count": 152,
   "metadata": {},
   "outputs": [],
   "source": [
    "import os\n",
    "from langchain_openai import ChatOpenAI\n",
    "from langchain_core.prompts import ChatPromptTemplate\n",
    "from langchain_core.runnables import RunnableParallel, RunnablePassthrough\n",
    "from langchain.output_parsers import StructuredOutputParser, PydanticOutputParser\n",
    "from langchain_core.output_parsers import StrOutputParser\n",
    "from langchain_community.document_loaders import PyPDFLoader\n",
    "from langchain.text_splitter import RecursiveCharacterTextSplitter\n",
    "import tempfile\n",
    "\n",
    "from typing_extensions import TypedDict, Literal\n",
    "from pydantic import BaseModel, Field\n",
    "from typing import Annotated, List, Optional, Union, Dict, Any\n",
    "from langgraph.graph import StateGraph, START, END\n",
    "\n",
    "\n",
    "from langchain_community.document_loaders import PyPDFLoader\n",
    "import camelot\n",
    "\n",
    "import re, json\n",
    "\n"
   ]
  },
  {
   "cell_type": "markdown",
   "metadata": {},
   "source": [
    "### 웹에서 처리"
   ]
  },
  {
   "cell_type": "code",
   "execution_count": 153,
   "metadata": {},
   "outputs": [
    {
     "name": "stdout",
     "output_type": "stream",
     "text": [
      "pdf_text:  [p1] 정산팀-40-00083\n",
      "순번 BIN 자체카드\n",
      "구  분 발급사 기관코드 브랜드 회원구분 카드구분 카드등급 전건대행 신용대행 건별대행 할부가능\n",
      "여부\n",
      "2069 9407-57 자체 헥토파이낸셜 57 LOCAL 개인 체크 플러스 대행불가 거래중계 대행불가 할부불가\n",
      "2070 9200-57 자체 헥토파이낸셜 57 LOCAL 개인+기업 체크 플러스 대행불가 거래중계 대행불가 할부불가\n",
      "2071 5302-0035 자체 헥토파이낸셜 57 MC 개인 체크 플러스 대행불가 거래중계 대행불가 할부불가\n",
      "2072 9483-51 자체 비씨카드 50 LOCAL 개인 신용 PT 대행가능 대행가능 대행불가 할부가능\n",
      "2073 9483-52 자체 비씨카드 50 LOCAL 기업 신용 PT 대행가능 대행가능 대행불가 할부불가\n",
      "2074 5465-17 자체 비씨카드 50 MC 개인 신용 PT 대행가능 대행가능 대행불가 할부가능\n",
      "2075 5483-64 자체 비씨카드 50 MC 기업 신용 PT 대행가능 대행가능 대행불가 할부불가\n",
      "2076 5485-27 자체 수협은행 07 MC 개인 신용 PT 대행가능 대행가능 대행불가 할부가능\n",
      " * 신규고객사 \"헥토파이낸셜\" 매출표 표기 : 헥토카드\n",
      "ㅇ 일정에 따른 BIN번호 전산반영 및 회신\n",
      "ㅇ BIN자체관리 가맹점으로 BIN번호 재통지 및 반영여부 확인 요망\n",
      "  참      조 : 신용카드 담당 부서장\n",
      "비씨카드주식회사\n",
      "서울시 중구 을지로 170 을지트윈타워\n",
      "담당자 : 정산팀 이성희 대리, T: 02)520-8373, E: ssung@bccard.com\n",
      "  문서번호 : 2025-08-01\n",
      "  수      신 : 수신처 참조\n",
      "  제      목 : [비씨카드] BIN 관련 업무협조 요청\n",
      "1. 귀 사(원)의 무궁한 발전을 기원합니다.\n",
      "2. 당사 신규 BIN(Bank Identification Number) 생성에 따라 다음과 같이 요청하오니 협조하여 주시기 바랍니다.\n",
      "ㅇ 할부대행은 6개월 이내에서 가능합니다.\n",
      "3. 내  용\n",
      "      가. 신규 BIN 등록\n",
      "     ㅇ 다음의 신규 BIN은 2025.08.11(월)까지 전산반영 요청 (개발기 등록 포함)\n",
      "ㅇ 자체카드구분이 “자체브랜드”인 경우에는 ‘비씨카드’가 아니라 해당 '발급사의 자체카드'로 등록하여야 합니다.\n",
      "ㅇ 매출표 표기는 [발급사명 + 거래형태]로 표기하여 주시기 바랍니다. (Hybrid카드 반영).\n",
      "   - 체크카드는 거래형태 '체크', 신용카드는 거래형태 '신용'으로 표기\n",
      "ㅇ 기관코드는 비씨카드에서 관리하는 은행 및 카드사 코드입니다.\n",
      " 4. 요청사항\n",
      "한국정보통신㈜, ㈜케이에스넷, 나이스정보통신㈜, (사)금융결제원, 한국신용카드결제㈜, KIS정보통신㈜, 한국결제네트워크(유), ㈜코밴, ㈜나이스페이먼츠,\n",
      "㈜스마트로, ㈜다우데이타, NHNKCP(주), 코레일네트웍스㈜, ㈜섹타나인, 브이피㈜, 토스페이먼트(주) , ㈜하렉스인포텍, ㈜티머니, 농협경제지주,\n",
      "㈜케이지이니시스, ㈜이마트, ㈜이랜드, ㈜현대홈쇼핑, ㈜신세계아이앤씨 , ㈜현대백화점, ㈜티비허브  (26개)\n",
      "비 씨 카 드 주 식 회 사\n",
      "정 산 팀 장\n",
      "1\n",
      "1\n",
      "0,1,2,3,4,5,6,7,8,9,10,11,12\n",
      "순번,BIN,\"자체카드\n",
      "구  분\",발급사,기관코드,브랜드,회원구분,카드구분,카드등급,전건대행,신용대행,건별대행,\"할부가능\n",
      "여부\"\n",
      "2069,9407-57,자체,헥토파이낸셜,57,LOCAL,개인,체크,플러스,대행불가,거래중계,대행불가,할부불가\n",
      "2070,9200-57,자체,헥토파이낸셜,57,LOCAL,개인+기업,체크,플러스,대행불가,거래중계,대행불가,할부불가\n",
      "2071,5302-0035,자체,헥토파이낸셜,57,MC,개인,체크,플러스,대행불가,거래중계,대행불가,할부불가\n",
      "2072,9483-51,자체,비씨카드,50,LOCAL,개인,신용,PT,대행가능,대행가능,대행불가,할부가능\n",
      "2073,9483-52,자체,비씨카드,50,LOCAL,기업,신용,PT,대행가능,대행가능,대행불가,할부불가\n",
      "2074,5465-17,자체,비씨카드,50,MC,개인,신용,PT,대행가능,대행가능,대행불가,할부가능\n",
      "2075,5483-64,자체,비씨카드,50,MC,기업,신용,PT,대행가능,대행가능,대행불가,할부불가\n",
      "2076,5485-27,자체,수협은행,07,MC,개인,신용,PT,대행가능,대행가능,대행불가,할부가능\n",
      "\n"
     ]
    }
   ],
   "source": [
    "from langchain_community.document_loaders import PyPDFLoader\n",
    "import camelot\n",
    "\n",
    "pdf_path = \"./bin_pdf_data/BIN_업무협조_요청_VAN_20250801.pdf\"\n",
    "\n",
    "loader = PyPDFLoader(pdf_path)\n",
    "pages = loader.load() \n",
    "\n",
    "# 1) 텍스트 페이지 합치기 (너무 길면 샘플링/요약 후 단계적 호출)\n",
    "pdf_text = \"\\n\\n\".join([f\"[p{idx+1}] {d.page_content}\" for idx, d in enumerate(pages)])\n",
    "print('pdf_text: ', pdf_text)\n",
    "\n",
    "# 2)표 \n",
    "def df_to_csv(df):\n",
    "    return df.to_csv(index=False)\n",
    "\n",
    "# 표 로드 (텍스트 기반 PDF에서만)\n",
    "tables = camelot.read_pdf(pdf_path, pages=\"all\", flavor=\"lattice\")  # or 'stream'\n",
    "print(len(tables))\n",
    "dfs = [t.df for t in tables]  # 각 표를 pandas DataFrame으로\n",
    "pdf_bin = \"\\n\\n\".join([df_to_csv(df) for df in dfs]) if len(dfs) else \"N/A\"\n",
    "print(pdf_bin)\n"
   ]
  },
  {
   "cell_type": "markdown",
   "metadata": {},
   "source": [
    "### PDF에서 카드 BIN 데이터 추출"
   ]
  },
  {
   "cell_type": "code",
   "execution_count": 154,
   "metadata": {},
   "outputs": [],
   "source": [
    "from pydantic import BaseModel, Field\n",
    "from typing_extensions import TypedDict, Literal\n",
    "from typing import List, Optional\n",
    "\n",
    "# PDF 표 구조 \n",
    "class BinRow(BaseModel):\n",
    "    bin: str  = Field(description=\"BIN번호(8자리 또는 6자리)\")                                                      # BIN번호 \"8자리(또는 6자리) BIN 문자열\"\n",
    "    issuer: str = Field(description=\"발급사\")                                                                     # 발급사\n",
    "    instCd: str = Field(description=\"기관코드\")                                                                   # 기관코드\n",
    "    brand: str  = Field(description=\"브랜드사\")                                                                   # 브랜드사\n",
    "    memberType: Literal[\"개인\",\"법인\",\"개인+기업\"] = Field(description=\"회원구분\")                                   # 회원구분\n",
    "    cardType:   Literal[\"체크\", \"신용\", \"선불\"] = Field(description=\"카드구분\")                                     # 카드구분\n",
    "    cardRank:   Literal[\"플러스\", \"PT\", \"골드\", \"체크\", \"일반\", \"우량\"] = Field(description=\"대행한도등급\")           # 대행한도등급\n",
    "    agentFull:  Literal[\"Y\",\"N\"]  = Field(description=\"전건대행\")                                                 # 전건대행\n",
    "    agentCredit: Literal[\"Y\",\"N\"] = Field(description=\"신용대행\")                                                 # 신용대행\n",
    "    agentPerTxn: Literal[\"Y\",\"N\"] = Field(description=\"건별대행\")                                                 # 건별대행    \n",
    "    installmentYN: Literal[\"Y\",\"N\"] = Field(description=\"할부 가능여부\")                                           # 할부 가능여부\n",
    "\n",
    "class ExtractionResult(BaseModel):\n",
    "    rows: List[BinRow]  = []\n",
    "    notes: Optional[str]\n"
   ]
  },
  {
   "cell_type": "code",
   "execution_count": 155,
   "metadata": {},
   "outputs": [],
   "source": [
    "#parser = PydanticOutputParser(pydantic_object=ExtractionResult)\n",
    "\n",
    "#print(parser.get_format_instructions())\n",
    "\n",
    "from langchain_core.language_models import LLM\n",
    "\n",
    "\n",
    "llm = ChatOpenAI(model=\"gpt-4.1-mini\")\n",
    "structured_llm = llm.with_structured_output(ExtractionResult)\n",
    "\n",
    "\n",
    "system = \"\"\"\n",
    "당신은 카드 BIN 데이터 추출 보조자입니다.\n",
    "다음 규칙으로만 JSON을 생성하세요:\n",
    "- JSON 스키마를 엄격히 준수\n",
    "- 불확실 시 '?' 사용\n",
    "- 근거 문맥을 source_text에 200자 이내로 첨부\n",
    "- 페이지 번호를 page_ref에 기록\n",
    "\"\"\"\n",
    "\n",
    "human = \"\"\"PDF에서 추출한 BIN번호 관련 dataframe이 아래에 제공됩니다.\n",
    "BIN번호, 발급사, 기관코드, 브랜드, 회원구분, 카드구분, 카드등급, 완전대행, 신용대행, 건별대행, 할부가능여부 모두 표준화해 rows 배열로 반환하세요.\n",
    "텍스트:\n",
    "{pdf_text}\n",
    "\n",
    "표(있다면 CSV로 직렬화됨):\n",
    "{pdf_bin}\n",
    "\"\"\"\n",
    "\n",
    "prompt = ChatPromptTemplate.from_messages([\n",
    "    (\"system\", system),\n",
    "    (\"human\", human)\n",
    "])\n",
    "\n",
    "pdf_ingestion_chain = prompt | structured_llm\n",
    "result = pdf_ingestion_chain.invoke({\n",
    "    \"pdf_text\": pdf_text[:100000],  # 토큰 초과 방지\n",
    "    \"pdf_bin\": pdf_bin[:50000]\n",
    "    #\"format_instructions\": parser.get_format_instructions()\n",
    "})"
   ]
  },
  {
   "cell_type": "code",
   "execution_count": 156,
   "metadata": {},
   "outputs": [
    {
     "data": {
      "text/plain": [
       "[BinRow(bin='940757', issuer='헥토파이낸셜', instCd='57', brand='LOCAL', memberType='개인', cardType='체크', cardRank='플러스', agentFull='N', agentCredit='Y', agentPerTxn='N', installmentYN='N'),\n",
       " BinRow(bin='920057', issuer='헥토파이낸셜', instCd='57', brand='LOCAL', memberType='개인+기업', cardType='체크', cardRank='플러스', agentFull='N', agentCredit='Y', agentPerTxn='N', installmentYN='N'),\n",
       " BinRow(bin='53020035', issuer='헥토파이낸셜', instCd='57', brand='MC', memberType='개인', cardType='체크', cardRank='플러스', agentFull='N', agentCredit='Y', agentPerTxn='N', installmentYN='N'),\n",
       " BinRow(bin='948351', issuer='비씨카드', instCd='50', brand='LOCAL', memberType='개인', cardType='신용', cardRank='PT', agentFull='Y', agentCredit='Y', agentPerTxn='N', installmentYN='Y'),\n",
       " BinRow(bin='948352', issuer='비씨카드', instCd='50', brand='LOCAL', memberType='법인', cardType='신용', cardRank='PT', agentFull='Y', agentCredit='Y', agentPerTxn='N', installmentYN='N'),\n",
       " BinRow(bin='546517', issuer='비씨카드', instCd='50', brand='MC', memberType='개인', cardType='신용', cardRank='PT', agentFull='Y', agentCredit='Y', agentPerTxn='N', installmentYN='Y'),\n",
       " BinRow(bin='548364', issuer='비씨카드', instCd='50', brand='MC', memberType='법인', cardType='신용', cardRank='PT', agentFull='Y', agentCredit='Y', agentPerTxn='N', installmentYN='N'),\n",
       " BinRow(bin='548527', issuer='수협은행', instCd='07', brand='MC', memberType='개인', cardType='신용', cardRank='PT', agentFull='Y', agentCredit='Y', agentPerTxn='N', installmentYN='Y')]"
      ]
     },
     "execution_count": 156,
     "metadata": {},
     "output_type": "execute_result"
    }
   ],
   "source": [
    "result.rows"
   ]
  },
  {
   "cell_type": "markdown",
   "metadata": {},
   "source": [
    "### BIN 관련 요청 및 DB 조회 필요 여부 검사"
   ]
  },
  {
   "cell_type": "code",
   "execution_count": 157,
   "metadata": {},
   "outputs": [],
   "source": [
    "# BIN관련 요청 && DB 조회 필요 여부 검사\n",
    "class NeedDBLookup(BaseModel):\n",
    "    about_bin: Literal[\"Y\", \"N\"] = Field(description=\"BIN 관련 요청인지 여부(Y or N)\")\n",
    "    need_db_lookup: Literal[\"Y\", \"N\"] = Field(description=\"DB 조회가 필요한지 여부(Y or N)\")\n",
    "    reason: str = Field(description=\"DB 조회가 필요하거나 필요하지 않은 이유\")\n",
    "\n",
    "llm = ChatOpenAI(model=\"gpt-4o-mini\", temperature=0) \n",
    "structured_llm = llm.with_structured_output(NeedDBLookup)\n",
    "\n",
    "system = \"\"\"\n",
    "당신은 사용자의 질문을 분석하여 BIN 관련 요청인지 여부와 DB 조회가 필요한지 여부를 판단하는 역할을 합니다.\n",
    "\n",
    "다음과 같은 경우에는 BIN 관련 요청이 아닙니다:\n",
    "- PDF 텍스트에 BIN 관련 내용이 없는 경우\n",
    "- 일반적인 대화나 인사\n",
    "- 개인적인 의견을 묻는 질문\n",
    "- 창의적인 내용 생성 요청\n",
    "- 간단한 계산이나 논리적 추론만 필요한 질문\n",
    "\n",
    "다음과 같은 경우에는 DB 조회가 필요하지 않습니다:\n",
    "- PDF에 존재하는 BIN의 정보만을 물어보는 경우\n",
    "- 기존에 존재하는 BIN의 정보를 물어보지 않는 경우\n",
    "- 일반적인 대화나 인사\n",
    "- 개인적인 의견을 묻는 질문\n",
    "- 창의적인 내용 생성 요청\n",
    "- 간단한 계산이나 논리적 추론만 필요한 질문\n",
    "- PDF에 있는 내용만 물어보는 경우\n",
    "\n",
    "다음과 같은 경우에는 DB 조회가 필요합니다:\n",
    "- PDF에 있는 BIN 정보를 검증해달라고 요청한 경우\n",
    "- PDF가 아닌, 기존에 존재하는 BIN 정보를 물어보는 경우\n",
    "\n",
    "또한, 질문은 입력되지 않지만 PDF 텍스트가 존재하며, PDF에 BIN정보가 존재한다면 반드시 DB 조회가 필요합니다.\n",
    "\n",
    "질문을 분석하고 문서 검색이 필요한지 여부와 그 이유를 제공해주세요.\n",
    "\"\"\"\n",
    "\n",
    "prompt = ChatPromptTemplate.from_messages([\n",
    "    (\"system\", system),\n",
    "    (\"user\", \"질문:{question}\"),\n",
    "    (\"user\", \"PDF 텍스트:{pdf_text}\"),\n",
    "    (\"user\", \"PDF에 있는 BIN 정보:{pdf_ingestion}\")\n",
    "])\n",
    "\n",
    "need_db_loopup_chain = prompt | structured_llm\n"
   ]
  },
  {
   "cell_type": "code",
   "execution_count": 158,
   "metadata": {},
   "outputs": [
    {
     "data": {
      "text/plain": [
       "NeedDBLookup(about_bin='Y', need_db_lookup='Y', reason='PDF에 있는 BIN 정보를 검증해달라고 요청하였기 때문에 DB 조회가 필요합니다.')"
      ]
     },
     "execution_count": 158,
     "metadata": {},
     "output_type": "execute_result"
    }
   ],
   "source": [
    "pdf_text = \"\"\"\n",
    "정산팀-40-00083\\n순번 BIN 자체카드\\n구  분 발급사 기관코드 브랜드 회원구분 카드구분 카드등급 전건대행 신용대행 건별대행 할부가능\\n여부\\n2069 9407-57 자체 헥토파이낸셜 57 LOCAL 개인 체크 플러스 대행불가 거래중계 대행불가 할부불가\\n2070 9200-57 자체 헥토파이낸셜 57 LOCAL 개인+기업 체크 플러스 대행불가 거래중계 대행불가 할부불가\\n2071 5302-0035 자체 헥토파이낸셜 57 MC 개인 체크 플러스 대행불가 거래중계 대행불가 할부불가\\n2072 9483-51 자체 비씨카드 50 LOCAL 개인 신용 PT 대행가능 대행가능 대행불가 할부가능\\n2073 9483-52 자체 비씨카드 50 LOCAL 기업 신용 PT 대행가능 대행가능 대행불가 할부불가\\n2074 5465-17 자체 비씨카드 50 MC 개인 신용 PT 대행가능 대행가능 대행불가 할부가능\\n2075 5483-64 자체 비씨카드 50 MC 기업 신용 PT 대행가능 대행가능 대행불가 할부불가\\n2076 5485-27 자체 수협은행 07 MC 개인 신용 PT 대행가능 대행가능 대행불가 할부가능\\n * 신규고객사 \"헥토파이낸셜\" 매출표 표기 : 헥토카드\\nㅇ 일정에 따른 BIN번호 전산반영 및 회신\\nㅇ BIN자체관리 가맹점으로 BIN번호 재통지 및 반영여부 확인 요망\\n  참      조 : 신용카드 담당 부서장\\n비씨카드주식회사\\n서울시 중구 을지로 170 을지트윈타워\\n담당자 : 정산팀 이성희 대리, T: 02)520-8373, E: ssung@bccard.com\\n  문서번호 : 2025-08-01\\n  수      신 : 수신처 참조\\n  제      목 : [비씨카드] BIN 관련 업무협조 요청\\n1.\\xa0귀 사(원)의 무궁한 발전을 기원합니다.\\n2.\\xa0당사 신규 BIN(Bank Identification Number) 생성에 따라 다음과 같이 요청하오니 협조하여 주시기 바랍니다.\\nㅇ 할부대행은 6개월 이내에서 가능합니다.\\n3. 내  용\\n      가. 신규 BIN 등록\\n     ㅇ 다음의 신규 BIN은 2025.08.11(월)까지 전산반영 요청 (개발기 등록 포함)\\nㅇ 자체카드구분이 “자체브랜드”인 경우에는 ‘비씨카드’가 아니라 해당 \\'발급사의 자체카드\\'로 등록하여야 합니다.\\nㅇ 매출표 표기는 [발급사명 + 거래형태]로 표기하여 주시기 바랍니다. (Hybrid카드 반영).\\n   - 체크카드는 거래형태 \\'체크\\', 신용카드는 거래형태 \\'신용\\'으로 표기\\nㅇ 기관코드는 비씨카드에서 관리하는 은행 및 카드사 코드입니다.\\n 4. 요청사항\\n한국정보통신㈜, ㈜케이에스넷, 나이스정보통신㈜, (사)금융결제원, 한국신용카드결제㈜, KIS정보통신㈜, 한국결제네트워크(유), ㈜코밴, ㈜나이스페이먼츠,\\n㈜스마트로, ㈜다우데이타, NHNKCP(주), 코레일네트웍스㈜, ㈜섹타나인, 브이피㈜, 토스페이먼트(주) , ㈜하렉스인포텍, ㈜티머니, 농협경제지주,\\n㈜케이지이니시스, ㈜이마트, ㈜이랜드, ㈜현대홈쇼핑, ㈜신세계아이앤씨 , ㈜현대백화점, ㈜티비허브  (26개)\\n비 씨 카 드 주 식 회 사\\n정 산 팀 장\\n\n",
    "\"\"\"\n",
    "\n",
    "question = \"PDF에 있는 BIN 정보를 검증해주세요\"\n",
    "\n",
    "pdf_bin_info = \"\"\"\n",
    "[{'card_bin': '920057', 'iss_inst_cd': '0100', 'stip_lmt_lvl_cd': '00', 'psn_corp_card_cl': '1', 'card_brand_cd': 'L', 'card_typ_cd': '1', 'mbr_cmpy_cd': '057', 'ist_psbl_yn': 'N', 'stip_psbl_yn': 'N', 'stip_ist_psbl_yn': 'N', 'wgt_cl': 'N'}]\\nVIP 콜센터 전화번호는 1566-7890입니다.\\n[BinRow(bin='940757', issuer='헥토파이낸셜', instCd='57', brand='LOCAL', memberType='개인', cardType='체크', cardRank='플러스', agentFull='N', agentCredit='N', agentPerTxn='N', installmentYN='N'),\\n BinRow(bin='920057', issuer='헥토파이낸셜', instCd='57', brand='LOCAL', memberType='개인+기업', cardType='체크', cardRank='플러스', agentFull='N', agentCredit='N', agentPerTxn='N', installmentYN='N'),\\n BinRow(bin='53020035', issuer='헥토파이낸셜', instCd='57', brand='MC', memberType='개인', cardType='체크', cardRank='플러스', agentFull='N', agentCredit='N', agentPerTxn='N', installmentYN='N'),\\n BinRow(bin='948351', issuer='비씨카드', instCd='50', brand='LOCAL', memberType='개인', cardType='신용', cardRank='PT', agentFull='Y', agentCredit='Y', agentPerTxn='N', installmentYN='Y'),\\n BinRow(bin='948352', issuer='비씨카드', instCd='50', brand='LOCAL', memberType='법인', cardType='신용', cardRank='PT', agentFull='Y', agentCredit='Y', agentPerTxn='N', installmentYN='N'),\\n BinRow(bin='546517', issuer='비씨카드', instCd='50', brand='MC', memberType='개인', cardType='신용', cardRank='PT', agentFull='Y', agentCredit='Y', agentPerTxn='N', installmentYN='Y'),\\n BinRow(bin='548364', issuer='비씨카드', instCd='50', brand='MC', memberType='법인', cardType='신용', cardRank='PT', agentFull='Y', agentCredit='Y', agentPerTxn='N', installmentYN='N'),\\n BinRow(bin='548527', issuer='수협은행', instCd='07', brand='MC', memberType='개인', cardType='신용', cardRank='PT', agentFull='Y', agentCredit='Y', agentPerTxn='N', installmentYN='Y')]\n",
    "\"\"\"\n",
    "\n",
    "need_db_loopup_chain.invoke(\n",
    "    {\"question\": question,\n",
    "     \"pdf_text\":  pdf_text, \n",
    "     \"pdf_ingestion\": result.rows\n",
    "    }\n",
    ")"
   ]
  },
  {
   "cell_type": "markdown",
   "metadata": {},
   "source": [
    "### DB 조회"
   ]
  },
  {
   "cell_type": "code",
   "execution_count": 159,
   "metadata": {},
   "outputs": [],
   "source": [
    "class DBRow(BaseModel):\n",
    "    card_bin:str = Field(description=\"BIN번호(8자리 또는 6자리)\")   \n",
    "    iss_inst_cd: str = Field(description=\"발급사\")\n",
    "    stip_lmt_lvl_cd: str = Field(description=\"대행한도등급\")\n",
    "    psn_corp_card_cl: str = Field(description=\"회원구분\")\n",
    "    card_brand_cd: str = Field(description=\"브랜드\")\n",
    "    card_typ_cd: str = Field(description=\"카드구분\")\n",
    "    mbr_cmpy_cd: str = Field(description=\"기관코드\")\n",
    "    ist_psbl_yn: str = Field(description=\"할부가능여부\")\n",
    "    stip_psbl_yn: str = Field(description=\"대행가능여부\")\n",
    "    stip_ist_psbl_yn: str = Field(description=\"할부대행 가능여부\")\n",
    "    wgt_cl: str = Field(description=\"건별대행 가능능여부\")"
   ]
  },
  {
   "cell_type": "code",
   "execution_count": 160,
   "metadata": {},
   "outputs": [
    {
     "name": "stdout",
     "output_type": "stream",
     "text": [
      "bins:  ['940757', '920057', '53020035', '948351', '948352', '546517', '548364', '548527']\n",
      "7\n",
      "[{'card_bin': '53020035', 'iss_inst_cd': '0100', 'stip_lmt_lvl_cd': '00', 'psn_corp_card_cl': '1', 'card_brand_cd': 'M', 'card_typ_cd': '1', 'mbr_cmpy_cd': '057', 'ist_psbl_yn': 'N', 'stip_psbl_yn': 'N', 'stip_ist_psbl_yn': 'N', 'wgt_cl': 'N'}, {'card_bin': '548364', 'iss_inst_cd': '0100', 'stip_lmt_lvl_cd': '21', 'psn_corp_card_cl': '2', 'card_brand_cd': 'M', 'card_typ_cd': '0', 'mbr_cmpy_cd': '050', 'ist_psbl_yn': 'N', 'stip_psbl_yn': 'Y', 'stip_ist_psbl_yn': 'N', 'wgt_cl': 'Y'}, {'card_bin': '548527', 'iss_inst_cd': '0202', 'stip_lmt_lvl_cd': '13', 'psn_corp_card_cl': '1', 'card_brand_cd': 'M', 'card_typ_cd': '0', 'mbr_cmpy_cd': '007', 'ist_psbl_yn': 'Y', 'stip_psbl_yn': 'Y', 'stip_ist_psbl_yn': 'Y', 'wgt_cl': 'Y'}, {'card_bin': '920057', 'iss_inst_cd': '0100', 'stip_lmt_lvl_cd': '00', 'psn_corp_card_cl': '1', 'card_brand_cd': 'L', 'card_typ_cd': '1', 'mbr_cmpy_cd': '057', 'ist_psbl_yn': 'N', 'stip_psbl_yn': 'N', 'stip_ist_psbl_yn': 'N', 'wgt_cl': 'N'}, {'card_bin': '940757', 'iss_inst_cd': '0100', 'stip_lmt_lvl_cd': '00', 'psn_corp_card_cl': '1', 'card_brand_cd': 'L', 'card_typ_cd': '1', 'mbr_cmpy_cd': '057', 'ist_psbl_yn': 'N', 'stip_psbl_yn': 'N', 'stip_ist_psbl_yn': 'N', 'wgt_cl': 'N'}, {'card_bin': '948351', 'iss_inst_cd': '0100', 'stip_lmt_lvl_cd': '13', 'psn_corp_card_cl': '1', 'card_brand_cd': 'L', 'card_typ_cd': '0', 'mbr_cmpy_cd': '050', 'ist_psbl_yn': 'Y', 'stip_psbl_yn': 'Y', 'stip_ist_psbl_yn': 'Y', 'wgt_cl': 'Y'}, {'card_bin': '948352', 'iss_inst_cd': '0100', 'stip_lmt_lvl_cd': '21', 'psn_corp_card_cl': '2', 'card_brand_cd': 'L', 'card_typ_cd': '0', 'mbr_cmpy_cd': '050', 'ist_psbl_yn': 'N', 'stip_psbl_yn': 'Y', 'stip_ist_psbl_yn': 'N', 'wgt_cl': 'Y'}]\n",
      "7\n",
      "[DBRow(card_bin='53020035', iss_inst_cd='0100', stip_lmt_lvl_cd='00', psn_corp_card_cl='1', card_brand_cd='M', card_typ_cd='1', mbr_cmpy_cd='057', ist_psbl_yn='N', stip_psbl_yn='N', stip_ist_psbl_yn='N', wgt_cl='N'), DBRow(card_bin='548364', iss_inst_cd='0100', stip_lmt_lvl_cd='21', psn_corp_card_cl='2', card_brand_cd='M', card_typ_cd='0', mbr_cmpy_cd='050', ist_psbl_yn='N', stip_psbl_yn='Y', stip_ist_psbl_yn='N', wgt_cl='Y'), DBRow(card_bin='548527', iss_inst_cd='0202', stip_lmt_lvl_cd='13', psn_corp_card_cl='1', card_brand_cd='M', card_typ_cd='0', mbr_cmpy_cd='007', ist_psbl_yn='Y', stip_psbl_yn='Y', stip_ist_psbl_yn='Y', wgt_cl='Y'), DBRow(card_bin='920057', iss_inst_cd='0100', stip_lmt_lvl_cd='00', psn_corp_card_cl='1', card_brand_cd='L', card_typ_cd='1', mbr_cmpy_cd='057', ist_psbl_yn='N', stip_psbl_yn='N', stip_ist_psbl_yn='N', wgt_cl='N'), DBRow(card_bin='940757', iss_inst_cd='0100', stip_lmt_lvl_cd='00', psn_corp_card_cl='1', card_brand_cd='L', card_typ_cd='1', mbr_cmpy_cd='057', ist_psbl_yn='N', stip_psbl_yn='N', stip_ist_psbl_yn='N', wgt_cl='N'), DBRow(card_bin='948351', iss_inst_cd='0100', stip_lmt_lvl_cd='13', psn_corp_card_cl='1', card_brand_cd='L', card_typ_cd='0', mbr_cmpy_cd='050', ist_psbl_yn='Y', stip_psbl_yn='Y', stip_ist_psbl_yn='Y', wgt_cl='Y'), DBRow(card_bin='948352', iss_inst_cd='0100', stip_lmt_lvl_cd='21', psn_corp_card_cl='2', card_brand_cd='L', card_typ_cd='0', mbr_cmpy_cd='050', ist_psbl_yn='N', stip_psbl_yn='Y', stip_ist_psbl_yn='N', wgt_cl='Y')]\n"
     ]
    }
   ],
   "source": [
    "from sqlalchemy import create_engine, text, bindparam  \n",
    "from sqlalchemy.engine import Engine, Result\n",
    "\n",
    "engine_url = os.getenv(\"ORACLE_ENGINE_URL\")\n",
    "engine: Engine = create_engine(engine_url, pool_pre_ping=True)  # 필요 시 echo=True\n",
    "\n",
    "\n",
    "bins = [row.bin for row in result.rows]\n",
    "print('bins: ', bins)\n",
    "stmt = text(\n",
    "    \"\"\"\n",
    "    SELECT card_bin, iss_inst_cd, stip_lmt_lvl_cd, psn_corp_card_cl, card_brand_cd, card_typ_cd, mbr_cmpy_cd, ist_psbl_yn, stip_psbl_yn, stip_ist_psbl_yn, wgt_cl\n",
    "    FROM INF_CARD_BIN\n",
    "    WHERE 1=1\n",
    "    AND TRIM(CARD_BIN) IN :bins\n",
    "    \"\"\"\n",
    ").bindparams(bindparam(\"bins\", expanding=True))\n",
    "params = {\n",
    "    \"bins\": bins\n",
    "}\n",
    "\n",
    "with engine.connect() as conn:\n",
    "    select_result: Result = conn.execute(stmt, params)\n",
    "    dict_rows: List[Dict[str, Any]] = [dict(r._mapping) for r in select_result.fetchall()]\n",
    "    model_rows: List[DBRow] = [DBRow(**r) for r in dict_rows]\n",
    "\n",
    "print(len(dict_rows))\n",
    "print(dict_rows)\n",
    "print(len(model_rows))\n",
    "print(model_rows)"
   ]
  },
  {
   "cell_type": "markdown",
   "metadata": {},
   "source": [
    "### Compare"
   ]
  },
  {
   "cell_type": "code",
   "execution_count": 161,
   "metadata": {},
   "outputs": [],
   "source": [
    "# 얕은 JSON 타입 (재귀 제거: 안정적인 스키마 생성)\n",
    "JsonScalar = Union[str, int, float, bool, None]\n",
    "JsonFlat   = Union[\n",
    "    JsonScalar,\n",
    "    Dict[str, JsonScalar],\n",
    "    List[JsonScalar],\n",
    "    List[Dict[str, JsonScalar]],\n",
    "]\n",
    "\n",
    "class FieldResult(BaseModel):\n",
    "    ok: bool = Field(..., description=\"규칙 적합 여부\")\n",
    "    db: JsonFlat = Field(..., description=\"DB 측 비교값(정규화 후)\")\n",
    "    pdf: JsonFlat = Field(..., description=\"PDF 측 비교값(정규화 후)\")\n",
    "    note: Optional[str] = Field(None, description=\"설명/근거\")\n",
    "\n",
    "# ✅ Dict 대신 리스트로(맵 제약 회피)\n",
    "class ResultEntry(BaseModel):\n",
    "    key: str = Field(..., description=\"필드 키 (예: 'card_bin↔bin')\")\n",
    "    result: FieldResult\n",
    "\n",
    "class ValidationReport(BaseModel):\n",
    "    # 전 필드 required (기본값/Optional 제거)\n",
    "    all_passed: bool = Field(..., description=\"전체 통과 여부\")\n",
    "    results: List[ResultEntry] = Field(..., description=\"필드별 결과 리스트\")\n",
    "    mismatches: List[str] = Field(..., description=\"불일치 키 목록\")\n",
    "\n",
    "class PairResult(BaseModel):\n",
    "    bin: str = Field(..., description=\"매칭 기준 BIN\")\n",
    "    report: Optional[ValidationReport] = Field(None, description=\"LLM 비교 리포트 (둘 다 있으면 생성)\")\n",
    "    status: Literal[\"MATCHED\", \"PDF_ONLY\", \"DB_ONLY\"] = Field(..., description=\"매칭 상태\")\n",
    "    pdf_row: Optional[BinRow] = None\n",
    "    db_row: Optional[DBRow] = None\n",
    "\n",
    "class BatchValidationReport(BaseModel):\n",
    "    overall_passed: bool = Field(..., description=\"전체 행이 모두 통과했는지 여부\")\n",
    "    total_pairs: int = Field(..., description=\"매칭된 쌍(또는 케이스)의 총 개수\")\n",
    "    matched: int = Field(..., description=\"PDF & DB 모두 존재하는 케이스 수\")\n",
    "    pdf_only: int = Field(..., description=\"PDF에만 있고 DB엔 없는 케이스 수\")\n",
    "    db_only: int = Field(..., description=\"DB에만 있고 PDF엔 없는 케이스 수\")\n",
    "    pairs: List[PairResult] = Field(..., description=\"BIN별 상세 결과\")\n",
    "\n",
    "class PairReport(BaseModel):\n",
    "    bin: str = Field(..., description=\"매칭 기준 BIN\")\n",
    "    report: ValidationReport = Field(..., description=\"해당 BIN 쌍의 검증 리포트\")\n",
    "\n",
    "class BatchLLMResult(BaseModel):\n",
    "    pair_reports: List[PairReport] = Field(..., description=\"각 BIN 쌍의 리포트 목록\")\n",
    "\n"
   ]
  },
  {
   "cell_type": "code",
   "execution_count": 162,
   "metadata": {},
   "outputs": [],
   "source": [
    "#DBRow의 model_rows와 pdf_ingestion의 result.rows를 비교하여 결과를 출력\n",
    "SYSTEM_RULES = \"\"\"\n",
    "너는 카드 BIN 데이터 검증기다.\n",
    "아래 \"검증 규칙\"에 따라 DB 값 ↔ PDF 값을 비교하라.\n",
    "입력은 여러 쌍의 BIN이며, 각 쌍에 대해 ValidationReport를 생성하여 배열로 반환한다.\n",
    "\n",
    "[검증 규칙]\n",
    "\n",
    "1. card_bin ↔ bin\n",
    "   - 단순 문자열 동일성 비교.\n",
    "\n",
    "2. iss_inst_cd ↔ issuer\n",
    "   - 매핑표: {{0201: 농협, 0500: 신한, 0202: 수협, 0203: 씨티,\n",
    "             0301: 제주, 0302: 광주, 0303: 전북, 0100: 비씨}}\n",
    "   - PDF issuer가 {{농협, 신한, 수협, 씨티, 제주, 광주, 전북, 비씨, BC}} 외면\n",
    "     \"비씨\"로 간주하여 비교.\n",
    "\n",
    "3. stip_lmt_lvl_cd ↔ cardRank\n",
    "   - 매핑표: {{21: 법인, 13: PT, 17: 골드, 16: 우량, 15: 일반, 00: 플러스}}\n",
    "   - 단, PDF memberType이 \"법인\"이면 DB 값은 반드시 21이어야 함.\n",
    "\n",
    "4. psn_corp_card_cl ↔ memberType\n",
    "   - 매핑표: {{1: 개인일반, 2: 법인카드}}\n",
    "   - 단, PDF 값이 \"개인+기업\"이면 DB 값은 1이어야 함.\n",
    "\n",
    "5. card_brand_cd ↔ brand\n",
    "   - 매핑표: {{A: AMEX, J: JCB, L: LOCAL, V: VISA, M: MASTER, MC: MASTER,\n",
    "             D: DINERS, C: 은련, G: GLOBAL, K: JUST TOUCH, N: CONA}}\n",
    "   - PDF brand는 대소문자 무시.\n",
    "\n",
    "6. card_typ_cd ↔ cardType\n",
    "   - 매핑표: {{0: 신용, 1: 체크, 2: 선불}}\n",
    "   - \"체크카드\"도 \"체크\"로 처리.\n",
    "\n",
    "7. mbr_cmpy_cd ↔ instCd\n",
    "   - 앞자리 0 제거 후 정수 비교.\n",
    "\n",
    "8. ist_psbl_yn ↔ installmentYN\n",
    "   - Y/N 동일 비교.\n",
    "\n",
    "9. stip_psbl_yn ↔ agentFull & agentCredit\n",
    "   - 둘 다 'Y' → 'Y', 아니면 'N'.\n",
    "\n",
    "10. stip_ist_psbl_yn ↔ agentFull & agentCredit & installmentYN\n",
    "    - agentFull, agentCredit, installmentYN 모두 'Y' → stip_ist_psbl_yn 'Y'\n",
    "      위 경우가 아니면 'N'.\n",
    "\n",
    "11. wgt_cl ↔ agentPerTxn\n",
    "    - Y/N 동일 비교.\n",
    "\n",
    "\"\"\"\n",
    "\n",
    "HUMAN = \"\"\"\n",
    "다음은 여러 BIN 쌍의 입력이다. 각 항목은 동일한 BIN에 대한 PDF 행과 DB 행이다.\n",
    "각 항목마다 ValidationReport를 만들어 배열로 반환하라.\n",
    "\n",
    "입력:\n",
    "{pairs_json}\n",
    "\"\"\"\n",
    "\n",
    "prompt = ChatPromptTemplate.from_messages([\n",
    "    (\"system\", SYSTEM_RULES.strip()),\n",
    "    (\"human\", HUMAN.strip())\n",
    "])\n",
    "\n",
    "# ===== 모델 바인딩 =====\n",
    "llm = ChatOpenAI(model=\"gpt-4.1-mini\", temperature=0)\n",
    "structured_llm = llm.with_structured_output(BatchLLMResult)\n",
    "# 그냥 JSON 결과만 받도록\n",
    "batch_chain = prompt | structured_llm\n",
    "# BIN 정규화 유틸\n",
    "def norm_bin(s: str) -> str:\n",
    "    return re.sub(r\"[\\s\\-]\", \"\", s or \"\").strip()\n",
    "\n",
    "# ===== 배치 비교 =====\n",
    "def compare_many_batched(pdf_rows: List[BinRow], db_rows: List[DBRow]) -> List[Dict]:\n",
    "    pdf_map: Dict[str, BinRow] = {norm_bin(p.bin): p for p in pdf_rows if norm_bin(p.bin)}\n",
    "    db_map: Dict[str, DBRow]   = {norm_bin(d.card_bin): d for d in db_rows if norm_bin(d.card_bin)}\n",
    "\n",
    "    matched_keys = [k for k in pdf_map if k in db_map]\n",
    "\n",
    "    pairs_payload = [\n",
    "        {\"bin\": k, \"pdf\": pdf_map[k].model_dump(), \"db\": db_map[k].model_dump()}\n",
    "        for k in matched_keys\n",
    "    ]\n",
    "\n",
    "    if not pairs_payload:\n",
    "        return []\n",
    "\n",
    "    pairs_json_str = json.dumps({\"pairs\": pairs_payload}, ensure_ascii=False)\n",
    "\n",
    "    # LLM 호출 → JSON 문자열 결과\n",
    "    llm_out = batch_chain.invoke({\"pairs_json\": pairs_json_str})\n",
    "\n",
    "    return llm_out"
   ]
  },
  {
   "cell_type": "code",
   "execution_count": 163,
   "metadata": {},
   "outputs": [
    {
     "name": "stdout",
     "output_type": "stream",
     "text": [
      "{'pair_reports': [{'bin': '940757', 'report': {'all_passed': True, 'results': [{'key': 'card_bin↔bin', 'result': {'ok': True, 'db': '940757', 'pdf': '940757', 'note': None}}, {'key': 'iss_inst_cd↔issuer', 'result': {'ok': True, 'db': '0100', 'pdf': '헥토파이낸셜', 'note': 'PDF issuer 비씨로 간주'}}, {'key': 'stip_lmt_lvl_cd↔cardRank', 'result': {'ok': True, 'db': '00', 'pdf': '플러스', 'note': None}}, {'key': 'psn_corp_card_cl↔memberType', 'result': {'ok': True, 'db': '1', 'pdf': '개인', 'note': None}}, {'key': 'card_brand_cd↔brand', 'result': {'ok': True, 'db': 'L', 'pdf': 'LOCAL', 'note': None}}, {'key': 'card_typ_cd↔cardType', 'result': {'ok': True, 'db': '1', 'pdf': '체크', 'note': None}}, {'key': 'mbr_cmpy_cd↔instCd', 'result': {'ok': True, 'db': '057', 'pdf': '57', 'note': None}}, {'key': 'ist_psbl_yn↔installmentYN', 'result': {'ok': True, 'db': 'N', 'pdf': 'N', 'note': None}}, {'key': 'stip_psbl_yn↔agentFull & agentCredit', 'result': {'ok': True, 'db': 'N', 'pdf': 'N', 'note': None}}, {'key': 'stip_ist_psbl_yn↔agentFull & agentCredit & installmentYN', 'result': {'ok': True, 'db': 'N', 'pdf': 'N', 'note': None}}, {'key': 'wgt_cl↔agentPerTxn', 'result': {'ok': True, 'db': 'N', 'pdf': 'N', 'note': None}}], 'mismatches': []}}, {'bin': '920057', 'report': {'all_passed': True, 'results': [{'key': 'card_bin↔bin', 'result': {'ok': True, 'db': '920057', 'pdf': '920057', 'note': None}}, {'key': 'iss_inst_cd↔issuer', 'result': {'ok': True, 'db': '0100', 'pdf': '헥토파이낸셜', 'note': 'PDF issuer 비씨로 간주'}}, {'key': 'stip_lmt_lvl_cd↔cardRank', 'result': {'ok': True, 'db': '00', 'pdf': '플러스', 'note': None}}, {'key': 'psn_corp_card_cl↔memberType', 'result': {'ok': True, 'db': '1', 'pdf': '개인+기업', 'note': 'PDF 개인+기업이면 DB 1'}}, {'key': 'card_brand_cd↔brand', 'result': {'ok': True, 'db': 'L', 'pdf': 'LOCAL', 'note': None}}, {'key': 'card_typ_cd↔cardType', 'result': {'ok': True, 'db': '1', 'pdf': '체크', 'note': None}}, {'key': 'mbr_cmpy_cd↔instCd', 'result': {'ok': True, 'db': '057', 'pdf': '57', 'note': None}}, {'key': 'ist_psbl_yn↔installmentYN', 'result': {'ok': True, 'db': 'N', 'pdf': 'N', 'note': None}}, {'key': 'stip_psbl_yn↔agentFull & agentCredit', 'result': {'ok': True, 'db': 'N', 'pdf': 'N', 'note': None}}, {'key': 'stip_ist_psbl_yn↔agentFull & agentCredit & installmentYN', 'result': {'ok': True, 'db': 'N', 'pdf': 'N', 'note': None}}, {'key': 'wgt_cl↔agentPerTxn', 'result': {'ok': True, 'db': 'N', 'pdf': 'N', 'note': None}}], 'mismatches': []}}, {'bin': '53020035', 'report': {'all_passed': True, 'results': [{'key': 'card_bin↔bin', 'result': {'ok': True, 'db': '53020035', 'pdf': '53020035', 'note': None}}, {'key': 'iss_inst_cd↔issuer', 'result': {'ok': True, 'db': '0100', 'pdf': '헥토파이낸셜', 'note': 'PDF issuer 비씨로 간주'}}, {'key': 'stip_lmt_lvl_cd↔cardRank', 'result': {'ok': True, 'db': '00', 'pdf': '플러스', 'note': None}}, {'key': 'psn_corp_card_cl↔memberType', 'result': {'ok': True, 'db': '1', 'pdf': '개인', 'note': None}}, {'key': 'card_brand_cd↔brand', 'result': {'ok': True, 'db': 'M', 'pdf': 'MC', 'note': None}}, {'key': 'card_typ_cd↔cardType', 'result': {'ok': True, 'db': '1', 'pdf': '체크', 'note': None}}, {'key': 'mbr_cmpy_cd↔instCd', 'result': {'ok': True, 'db': '057', 'pdf': '57', 'note': None}}, {'key': 'ist_psbl_yn↔installmentYN', 'result': {'ok': True, 'db': 'N', 'pdf': 'N', 'note': None}}, {'key': 'stip_psbl_yn↔agentFull & agentCredit', 'result': {'ok': True, 'db': 'N', 'pdf': 'N', 'note': None}}, {'key': 'stip_ist_psbl_yn↔agentFull & agentCredit & installmentYN', 'result': {'ok': True, 'db': 'N', 'pdf': 'N', 'note': None}}, {'key': 'wgt_cl↔agentPerTxn', 'result': {'ok': True, 'db': 'N', 'pdf': 'N', 'note': None}}], 'mismatches': []}}, {'bin': '948351', 'report': {'all_passed': True, 'results': [{'key': 'card_bin↔bin', 'result': {'ok': True, 'db': '948351', 'pdf': '948351', 'note': None}}, {'key': 'iss_inst_cd↔issuer', 'result': {'ok': True, 'db': '0100', 'pdf': '비씨카드', 'note': None}}, {'key': 'stip_lmt_lvl_cd↔cardRank', 'result': {'ok': True, 'db': '13', 'pdf': 'PT', 'note': None}}, {'key': 'psn_corp_card_cl↔memberType', 'result': {'ok': True, 'db': '1', 'pdf': '개인', 'note': None}}, {'key': 'card_brand_cd↔brand', 'result': {'ok': True, 'db': 'L', 'pdf': 'LOCAL', 'note': None}}, {'key': 'card_typ_cd↔cardType', 'result': {'ok': True, 'db': '0', 'pdf': '신용', 'note': None}}, {'key': 'mbr_cmpy_cd↔instCd', 'result': {'ok': True, 'db': '50', 'pdf': '50', 'note': None}}, {'key': 'ist_psbl_yn↔installmentYN', 'result': {'ok': True, 'db': 'Y', 'pdf': 'Y', 'note': None}}, {'key': 'stip_psbl_yn↔agentFull & agentCredit', 'result': {'ok': True, 'db': 'Y', 'pdf': 'Y', 'note': None}}, {'key': 'stip_ist_psbl_yn↔agentFull & agentCredit & installmentYN', 'result': {'ok': True, 'db': 'Y', 'pdf': 'Y', 'note': None}}, {'key': 'wgt_cl↔agentPerTxn', 'result': {'ok': True, 'db': 'Y', 'pdf': 'N', 'note': 'PDF agentPerTxn N, DB wgt_cl Y 불일치'}}], 'mismatches': ['wgt_cl↔agentPerTxn']}}, {'bin': '948352', 'report': {'all_passed': False, 'results': [{'key': 'card_bin↔bin', 'result': {'ok': True, 'db': '948352', 'pdf': '948352', 'note': None}}, {'key': 'iss_inst_cd↔issuer', 'result': {'ok': True, 'db': '0100', 'pdf': '비씨카드', 'note': None}}, {'key': 'stip_lmt_lvl_cd↔cardRank', 'result': {'ok': True, 'db': '21', 'pdf': 'PT', 'note': 'PDF memberType 법인일때 DB 21여야함'}}, {'key': 'psn_corp_card_cl↔memberType', 'result': {'ok': True, 'db': '2', 'pdf': '법인', 'note': None}}, {'key': 'card_brand_cd↔brand', 'result': {'ok': True, 'db': 'L', 'pdf': 'LOCAL', 'note': None}}, {'key': 'card_typ_cd↔cardType', 'result': {'ok': True, 'db': '0', 'pdf': '신용', 'note': None}}, {'key': 'mbr_cmpy_cd↔instCd', 'result': {'ok': True, 'db': '50', 'pdf': '50', 'note': None}}, {'key': 'ist_psbl_yn↔installmentYN', 'result': {'ok': False, 'db': 'N', 'pdf': 'N', 'note': 'PDF installmentYN N, DB ist_psbl_yn N 일치하지만 stip_ist_psbl_yn N 불일치 가능성 확인 필요'}}, {'key': 'stip_psbl_yn↔agentFull & agentCredit', 'result': {'ok': True, 'db': 'Y', 'pdf': 'Y', 'note': None}}, {'key': 'stip_ist_psbl_yn↔agentFull & agentCredit & installmentYN', 'result': {'ok': False, 'db': 'N', 'pdf': 'N', 'note': 'PDF agentFull Y, agentCredit Y, installmentYN N 이므로 DB는 N 맞음'}}, {'key': 'wgt_cl↔agentPerTxn', 'result': {'ok': True, 'db': 'Y', 'pdf': 'N', 'note': 'PDF agentPerTxn N, DB wgt_cl Y 불일치'}}], 'mismatches': ['ist_psbl_yn↔installmentYN', 'stip_ist_psbl_yn↔agentFull & agentCredit & installmentYN', 'wgt_cl↔agentPerTxn']}}, {'bin': '548364', 'report': {'all_passed': False, 'results': [{'key': 'card_bin↔bin', 'result': {'ok': True, 'db': '548364', 'pdf': '548364', 'note': None}}, {'key': 'iss_inst_cd↔issuer', 'result': {'ok': True, 'db': '0100', 'pdf': '비씨카드', 'note': None}}, {'key': 'stip_lmt_lvl_cd↔cardRank', 'result': {'ok': True, 'db': '21', 'pdf': 'PT', 'note': 'PDF memberType 법인일때 DB 21여야함'}}, {'key': 'psn_corp_card_cl↔memberType', 'result': {'ok': True, 'db': '2', 'pdf': '법인', 'note': None}}, {'key': 'card_brand_cd↔brand', 'result': {'ok': True, 'db': 'M', 'pdf': 'MC', 'note': None}}, {'key': 'card_typ_cd↔cardType', 'result': {'ok': True, 'db': '0', 'pdf': '신용', 'note': None}}, {'key': 'mbr_cmpy_cd↔instCd', 'result': {'ok': True, 'db': '50', 'pdf': '50', 'note': None}}, {'key': 'ist_psbl_yn↔installmentYN', 'result': {'ok': False, 'db': 'N', 'pdf': 'N', 'note': 'PDF installmentYN N, DB ist_psbl_yn N 일치하지만 stip_ist_psbl_yn N 불일치 가능성 확인 필요'}}, {'key': 'stip_psbl_yn↔agentFull & agentCredit', 'result': {'ok': True, 'db': 'Y', 'pdf': 'Y', 'note': None}}, {'key': 'stip_ist_psbl_yn↔agentFull & agentCredit & installmentYN', 'result': {'ok': False, 'db': 'N', 'pdf': 'N', 'note': 'PDF agentFull Y, agentCredit Y, installmentYN N 이므로 DB는 N 맞음'}}, {'key': 'wgt_cl↔agentPerTxn', 'result': {'ok': True, 'db': 'Y', 'pdf': 'N', 'note': 'PDF agentPerTxn N, DB wgt_cl Y 불일치'}}], 'mismatches': ['ist_psbl_yn↔installmentYN', 'stip_ist_psbl_yn↔agentFull & agentCredit & installmentYN', 'wgt_cl↔agentPerTxn']}}, {'bin': '548527', 'report': {'all_passed': True, 'results': [{'key': 'card_bin↔bin', 'result': {'ok': True, 'db': '548527', 'pdf': '548527', 'note': None}}, {'key': 'iss_inst_cd↔issuer', 'result': {'ok': True, 'db': '0202', 'pdf': '수협은행', 'note': None}}, {'key': 'stip_lmt_lvl_cd↔cardRank', 'result': {'ok': True, 'db': '13', 'pdf': 'PT', 'note': None}}, {'key': 'psn_corp_card_cl↔memberType', 'result': {'ok': True, 'db': '1', 'pdf': '개인', 'note': None}}, {'key': 'card_brand_cd↔brand', 'result': {'ok': True, 'db': 'M', 'pdf': 'MC', 'note': None}}, {'key': 'card_typ_cd↔cardType', 'result': {'ok': True, 'db': '0', 'pdf': '신용', 'note': None}}, {'key': 'mbr_cmpy_cd↔instCd', 'result': {'ok': True, 'db': '007', 'pdf': '07', 'note': None}}, {'key': 'ist_psbl_yn↔installmentYN', 'result': {'ok': True, 'db': 'Y', 'pdf': 'Y', 'note': None}}, {'key': 'stip_psbl_yn↔agentFull & agentCredit', 'result': {'ok': True, 'db': 'Y', 'pdf': 'Y', 'note': None}}, {'key': 'stip_ist_psbl_yn↔agentFull & agentCredit & installmentYN', 'result': {'ok': True, 'db': 'Y', 'pdf': 'Y', 'note': None}}, {'key': 'wgt_cl↔agentPerTxn', 'result': {'ok': True, 'db': 'Y', 'pdf': 'N', 'note': 'PDF agentPerTxn N, DB wgt_cl Y 불일치'}}], 'mismatches': ['wgt_cl↔agentPerTxn']}}]}\n"
     ]
    }
   ],
   "source": [
    "pdf_rows: List[BinRow]   # PDF에서 추출된 행들\n",
    "db_rows:  List[DBRow]    # DB에서 조회된 행들\n",
    "batch_report = compare_many_batched(pdf_rows, db_rows)\n",
    "print(batch_report.model_dump())"
   ]
  },
  {
   "cell_type": "code",
   "execution_count": 165,
   "metadata": {},
   "outputs": [
    {
     "data": {
      "text/plain": [
       "BatchLLMResult(pair_reports=[PairReport(bin='940757', report=ValidationReport(all_passed=True, results=[ResultEntry(key='card_bin↔bin', result=FieldResult(ok=True, db='940757', pdf='940757', note=None)), ResultEntry(key='iss_inst_cd↔issuer', result=FieldResult(ok=True, db='0100', pdf='헥토파이낸셜', note='PDF issuer 비씨로 간주')), ResultEntry(key='stip_lmt_lvl_cd↔cardRank', result=FieldResult(ok=True, db='00', pdf='플러스', note=None)), ResultEntry(key='psn_corp_card_cl↔memberType', result=FieldResult(ok=True, db='1', pdf='개인', note=None)), ResultEntry(key='card_brand_cd↔brand', result=FieldResult(ok=True, db='L', pdf='LOCAL', note=None)), ResultEntry(key='card_typ_cd↔cardType', result=FieldResult(ok=True, db='1', pdf='체크', note=None)), ResultEntry(key='mbr_cmpy_cd↔instCd', result=FieldResult(ok=True, db='057', pdf='57', note=None)), ResultEntry(key='ist_psbl_yn↔installmentYN', result=FieldResult(ok=True, db='N', pdf='N', note=None)), ResultEntry(key='stip_psbl_yn↔agentFull & agentCredit', result=FieldResult(ok=True, db='N', pdf='N', note=None)), ResultEntry(key='stip_ist_psbl_yn↔agentFull & agentCredit & installmentYN', result=FieldResult(ok=True, db='N', pdf='N', note=None)), ResultEntry(key='wgt_cl↔agentPerTxn', result=FieldResult(ok=True, db='N', pdf='N', note=None))], mismatches=[])), PairReport(bin='920057', report=ValidationReport(all_passed=True, results=[ResultEntry(key='card_bin↔bin', result=FieldResult(ok=True, db='920057', pdf='920057', note=None)), ResultEntry(key='iss_inst_cd↔issuer', result=FieldResult(ok=True, db='0100', pdf='헥토파이낸셜', note='PDF issuer 비씨로 간주')), ResultEntry(key='stip_lmt_lvl_cd↔cardRank', result=FieldResult(ok=True, db='00', pdf='플러스', note=None)), ResultEntry(key='psn_corp_card_cl↔memberType', result=FieldResult(ok=True, db='1', pdf='개인+기업', note='PDF 개인+기업이면 DB 1')), ResultEntry(key='card_brand_cd↔brand', result=FieldResult(ok=True, db='L', pdf='LOCAL', note=None)), ResultEntry(key='card_typ_cd↔cardType', result=FieldResult(ok=True, db='1', pdf='체크', note=None)), ResultEntry(key='mbr_cmpy_cd↔instCd', result=FieldResult(ok=True, db='057', pdf='57', note=None)), ResultEntry(key='ist_psbl_yn↔installmentYN', result=FieldResult(ok=True, db='N', pdf='N', note=None)), ResultEntry(key='stip_psbl_yn↔agentFull & agentCredit', result=FieldResult(ok=True, db='N', pdf='N', note=None)), ResultEntry(key='stip_ist_psbl_yn↔agentFull & agentCredit & installmentYN', result=FieldResult(ok=True, db='N', pdf='N', note=None)), ResultEntry(key='wgt_cl↔agentPerTxn', result=FieldResult(ok=True, db='N', pdf='N', note=None))], mismatches=[])), PairReport(bin='53020035', report=ValidationReport(all_passed=True, results=[ResultEntry(key='card_bin↔bin', result=FieldResult(ok=True, db='53020035', pdf='53020035', note=None)), ResultEntry(key='iss_inst_cd↔issuer', result=FieldResult(ok=True, db='0100', pdf='헥토파이낸셜', note='PDF issuer 비씨로 간주')), ResultEntry(key='stip_lmt_lvl_cd↔cardRank', result=FieldResult(ok=True, db='00', pdf='플러스', note=None)), ResultEntry(key='psn_corp_card_cl↔memberType', result=FieldResult(ok=True, db='1', pdf='개인', note=None)), ResultEntry(key='card_brand_cd↔brand', result=FieldResult(ok=True, db='M', pdf='MC', note=None)), ResultEntry(key='card_typ_cd↔cardType', result=FieldResult(ok=True, db='1', pdf='체크', note=None)), ResultEntry(key='mbr_cmpy_cd↔instCd', result=FieldResult(ok=True, db='057', pdf='57', note=None)), ResultEntry(key='ist_psbl_yn↔installmentYN', result=FieldResult(ok=True, db='N', pdf='N', note=None)), ResultEntry(key='stip_psbl_yn↔agentFull & agentCredit', result=FieldResult(ok=True, db='N', pdf='N', note=None)), ResultEntry(key='stip_ist_psbl_yn↔agentFull & agentCredit & installmentYN', result=FieldResult(ok=True, db='N', pdf='N', note=None)), ResultEntry(key='wgt_cl↔agentPerTxn', result=FieldResult(ok=True, db='N', pdf='N', note=None))], mismatches=[])), PairReport(bin='948351', report=ValidationReport(all_passed=True, results=[ResultEntry(key='card_bin↔bin', result=FieldResult(ok=True, db='948351', pdf='948351', note=None)), ResultEntry(key='iss_inst_cd↔issuer', result=FieldResult(ok=True, db='0100', pdf='비씨카드', note=None)), ResultEntry(key='stip_lmt_lvl_cd↔cardRank', result=FieldResult(ok=True, db='13', pdf='PT', note=None)), ResultEntry(key='psn_corp_card_cl↔memberType', result=FieldResult(ok=True, db='1', pdf='개인', note=None)), ResultEntry(key='card_brand_cd↔brand', result=FieldResult(ok=True, db='L', pdf='LOCAL', note=None)), ResultEntry(key='card_typ_cd↔cardType', result=FieldResult(ok=True, db='0', pdf='신용', note=None)), ResultEntry(key='mbr_cmpy_cd↔instCd', result=FieldResult(ok=True, db='50', pdf='50', note=None)), ResultEntry(key='ist_psbl_yn↔installmentYN', result=FieldResult(ok=True, db='Y', pdf='Y', note=None)), ResultEntry(key='stip_psbl_yn↔agentFull & agentCredit', result=FieldResult(ok=True, db='Y', pdf='Y', note=None)), ResultEntry(key='stip_ist_psbl_yn↔agentFull & agentCredit & installmentYN', result=FieldResult(ok=True, db='Y', pdf='Y', note=None)), ResultEntry(key='wgt_cl↔agentPerTxn', result=FieldResult(ok=True, db='Y', pdf='N', note='PDF agentPerTxn N, DB wgt_cl Y 불일치'))], mismatches=['wgt_cl↔agentPerTxn'])), PairReport(bin='948352', report=ValidationReport(all_passed=False, results=[ResultEntry(key='card_bin↔bin', result=FieldResult(ok=True, db='948352', pdf='948352', note=None)), ResultEntry(key='iss_inst_cd↔issuer', result=FieldResult(ok=True, db='0100', pdf='비씨카드', note=None)), ResultEntry(key='stip_lmt_lvl_cd↔cardRank', result=FieldResult(ok=True, db='21', pdf='PT', note='PDF memberType 법인일때 DB 21여야함')), ResultEntry(key='psn_corp_card_cl↔memberType', result=FieldResult(ok=True, db='2', pdf='법인', note=None)), ResultEntry(key='card_brand_cd↔brand', result=FieldResult(ok=True, db='L', pdf='LOCAL', note=None)), ResultEntry(key='card_typ_cd↔cardType', result=FieldResult(ok=True, db='0', pdf='신용', note=None)), ResultEntry(key='mbr_cmpy_cd↔instCd', result=FieldResult(ok=True, db='50', pdf='50', note=None)), ResultEntry(key='ist_psbl_yn↔installmentYN', result=FieldResult(ok=False, db='N', pdf='N', note='PDF installmentYN N, DB ist_psbl_yn N 일치하지만 stip_ist_psbl_yn N 불일치 가능성 확인 필요')), ResultEntry(key='stip_psbl_yn↔agentFull & agentCredit', result=FieldResult(ok=True, db='Y', pdf='Y', note=None)), ResultEntry(key='stip_ist_psbl_yn↔agentFull & agentCredit & installmentYN', result=FieldResult(ok=False, db='N', pdf='N', note='PDF agentFull Y, agentCredit Y, installmentYN N 이므로 DB는 N 맞음')), ResultEntry(key='wgt_cl↔agentPerTxn', result=FieldResult(ok=True, db='Y', pdf='N', note='PDF agentPerTxn N, DB wgt_cl Y 불일치'))], mismatches=['ist_psbl_yn↔installmentYN', 'stip_ist_psbl_yn↔agentFull & agentCredit & installmentYN', 'wgt_cl↔agentPerTxn'])), PairReport(bin='548364', report=ValidationReport(all_passed=False, results=[ResultEntry(key='card_bin↔bin', result=FieldResult(ok=True, db='548364', pdf='548364', note=None)), ResultEntry(key='iss_inst_cd↔issuer', result=FieldResult(ok=True, db='0100', pdf='비씨카드', note=None)), ResultEntry(key='stip_lmt_lvl_cd↔cardRank', result=FieldResult(ok=True, db='21', pdf='PT', note='PDF memberType 법인일때 DB 21여야함')), ResultEntry(key='psn_corp_card_cl↔memberType', result=FieldResult(ok=True, db='2', pdf='법인', note=None)), ResultEntry(key='card_brand_cd↔brand', result=FieldResult(ok=True, db='M', pdf='MC', note=None)), ResultEntry(key='card_typ_cd↔cardType', result=FieldResult(ok=True, db='0', pdf='신용', note=None)), ResultEntry(key='mbr_cmpy_cd↔instCd', result=FieldResult(ok=True, db='50', pdf='50', note=None)), ResultEntry(key='ist_psbl_yn↔installmentYN', result=FieldResult(ok=False, db='N', pdf='N', note='PDF installmentYN N, DB ist_psbl_yn N 일치하지만 stip_ist_psbl_yn N 불일치 가능성 확인 필요')), ResultEntry(key='stip_psbl_yn↔agentFull & agentCredit', result=FieldResult(ok=True, db='Y', pdf='Y', note=None)), ResultEntry(key='stip_ist_psbl_yn↔agentFull & agentCredit & installmentYN', result=FieldResult(ok=False, db='N', pdf='N', note='PDF agentFull Y, agentCredit Y, installmentYN N 이므로 DB는 N 맞음')), ResultEntry(key='wgt_cl↔agentPerTxn', result=FieldResult(ok=True, db='Y', pdf='N', note='PDF agentPerTxn N, DB wgt_cl Y 불일치'))], mismatches=['ist_psbl_yn↔installmentYN', 'stip_ist_psbl_yn↔agentFull & agentCredit & installmentYN', 'wgt_cl↔agentPerTxn'])), PairReport(bin='548527', report=ValidationReport(all_passed=True, results=[ResultEntry(key='card_bin↔bin', result=FieldResult(ok=True, db='548527', pdf='548527', note=None)), ResultEntry(key='iss_inst_cd↔issuer', result=FieldResult(ok=True, db='0202', pdf='수협은행', note=None)), ResultEntry(key='stip_lmt_lvl_cd↔cardRank', result=FieldResult(ok=True, db='13', pdf='PT', note=None)), ResultEntry(key='psn_corp_card_cl↔memberType', result=FieldResult(ok=True, db='1', pdf='개인', note=None)), ResultEntry(key='card_brand_cd↔brand', result=FieldResult(ok=True, db='M', pdf='MC', note=None)), ResultEntry(key='card_typ_cd↔cardType', result=FieldResult(ok=True, db='0', pdf='신용', note=None)), ResultEntry(key='mbr_cmpy_cd↔instCd', result=FieldResult(ok=True, db='007', pdf='07', note=None)), ResultEntry(key='ist_psbl_yn↔installmentYN', result=FieldResult(ok=True, db='Y', pdf='Y', note=None)), ResultEntry(key='stip_psbl_yn↔agentFull & agentCredit', result=FieldResult(ok=True, db='Y', pdf='Y', note=None)), ResultEntry(key='stip_ist_psbl_yn↔agentFull & agentCredit & installmentYN', result=FieldResult(ok=True, db='Y', pdf='Y', note=None)), ResultEntry(key='wgt_cl↔agentPerTxn', result=FieldResult(ok=True, db='Y', pdf='N', note='PDF agentPerTxn N, DB wgt_cl Y 불일치'))], mismatches=['wgt_cl↔agentPerTxn']))])"
      ]
     },
     "execution_count": 165,
     "metadata": {},
     "output_type": "execute_result"
    }
   ],
   "source": [
    "batch_report"
   ]
  },
  {
   "cell_type": "code",
   "execution_count": 79,
   "metadata": {},
   "outputs": [],
   "source": [
    "# LangGraph에서 쓸 상태(State) 정의입\n",
    "# 그래프가 흘러가면서 공유/업데이트되는 데이터의 스키마를 TypedDict로 정의의\n",
    "class GraphState(TypedDict):\n",
    "    question : Annotated[str, \"사용자의 질문\"]\n",
    "    pdf_text : Annotated[str, \"PDF 텍스트\"]\n",
    "    pdf_bin : Annotated[str, \"PDF BIN 정보\"]\n",
    "\n",
    "    pdf_ingestion : Annotated[str, \"PDF 텍스트 추출 결과\"]\n",
    "\n",
    "    need_db_lookup : Annotated[str, \"DB 조회 필요 여부\"]\n",
    "    db_rows : Annotated[List[DBRow], \"DB 조회 결과\"]\n",
    "\n",
    "    generation : Annotated[str, \"LLM의 응답\"]"
   ]
  },
  {
   "cell_type": "markdown",
   "metadata": {},
   "source": [
    "### 노드 정의"
   ]
  },
  {
   "cell_type": "code",
   "execution_count": 25,
   "metadata": {},
   "outputs": [],
   "source": [
    "def pdf_ingestion(state:GraphState) -> GraphState:\n",
    "    print(\"PDF INGESTION....\")\n",
    "    pdf_text = state[\"pdf_text\"]\n",
    "    pdf_bin = state[\"pdf_bin\"]\n",
    "\n",
    "    pdf_ingestion_result = pdf_ingestion_chain.invoke({\n",
    "        \"pdf_text\": pdf_text,\n",
    "        \"pdf_bin\": pdf_bin\n",
    "    })\n",
    "    return {'pdf_ingestion': pdf_ingestion_result}\n",
    "\n",
    "# 전처리를 진행하고, need_db_lookup 노드로 이동\n",
    "def need_db_lookup(state:GraphState) -> GraphState:\n",
    "    print(\"NEED DB LOOKUP....\")\n",
    "    question = state[\"question\"]\n",
    "    pdf_text = state[\"pdf_text\"]\n",
    "    pdf_ingestion = state[\"pdf_ingestion\"]\n",
    "\n",
    "    need_db_lookup_result = need_db_loopup_chain.invoke({\n",
    "        \"question\": question,\n",
    "        \"pdf_text\": pdf_text,\n",
    "        \"pdf_ingestion\": pdf_ingestion\n",
    "    })\n",
    "    return {'about_bin': need_db_lookup_result.about_bin, 'need_db_lookup':need_db_lookup_result.need_db_lookup}\n",
    "\n",
    "def fetch_db(state:GraphState) -> GraphState:\n",
    "    print(\"FETCH DB....\")\n",
    "    bins = [row.bin for row in pdf_ingestion]\n",
    "    \n",
    "    stmt = text(\n",
    "        \"\"\"\n",
    "        SELECT card_bin, iss_inst_cd, stip_lmt_lvl_cd, psn_corp_card_cl, card_brand_cd, card_typ_cd, mbr_cmpy_cd, ist_psbl_yn, stip_psbl_yn, stip_ist_psbl_yn, wgt_cl\n",
    "        FROM INF_CARD_BIN\n",
    "        WHERE 1=1\n",
    "        AND TRIM(CARD_BIN) IN :bins\n",
    "        \"\"\"\n",
    "    ).bindparams(bindparam(\"bins\", expanding=True))\n",
    "    params = {\n",
    "        \"bins\": bins\n",
    "    }\n",
    "\n",
    "    with engine.connect() as conn:\n",
    "        select_result: Result = conn.execute(stmt, params)\n",
    "        dict_rows: List[Dict[str, Any]] = [dict(r._mapping) for r in select_result.fetchall()]\n",
    "        model_rows: List[DBRow] = [DBRow(**r) for r in dict_rows]\n",
    "\n",
    "    print(len(dict_rows))\n",
    "    print(dict_rows)\n",
    "    print(len(model_rows))\n",
    "    print(model_rows)\n",
    "    \n",
    "    return {'db_rows': model_rows}\n",
    "\n",
    "def validation(state:GraphState) -> GraphState:\n",
    "    print(\"VALIDATION....\")\n",
    "    \n",
    "        "
   ]
  },
  {
   "cell_type": "markdown",
   "metadata": {},
   "source": [
    "### 조건부 엣지 정의"
   ]
  },
  {
   "cell_type": "code",
   "execution_count": null,
   "metadata": {},
   "outputs": [],
   "source": [
    "# 문서 검색 필요 여부 검사\n",
    "def decide_need_db_lookup(state:GraphState) -> GraphState:\n",
    "    print(\"DECISION NEED RETRIEVAL....\")\n",
    "    about_bin = state[\"about_bin\"]\n",
    "    need_db_lookup = state[\"need_db_lookup\"]\n",
    "\n",
    "    if need_db_lookup == \"N\":\n",
    "        return 'explain'\n",
    "    else:\n",
    "        return 'fetch_db'"
   ]
  },
  {
   "cell_type": "markdown",
   "metadata": {},
   "source": [
    "### 그래프 생성"
   ]
  },
  {
   "cell_type": "code",
   "execution_count": 26,
   "metadata": {},
   "outputs": [],
   "source": [
    "\n",
    "workflow = StateGraph(GraphState)\n",
    "\n",
    "workflow.add_node(\"pdf_ingestion\", pdf_ingestion)\n",
    "workflow.add_node(\"need_db_lookup\", need_db_lookup)\n",
    "workflow.add_node(\"fetch_db\", fetch_db)\n",
    "\n",
    "workflow.add_edge(START, \"pdf_ingestion\")\n",
    "workflow.add_edge(\"pdf_ingestion\", \"need_db_lookup\")\n",
    "workflow.add_conditional_edges(\n",
    "    \"need_db_lookup\",                   # 분기를 만드는 기준 노드 (need_db_lookup 노드)\n",
    "    decide_need_db_lookup,              # 조건 함수 (state를 보고 다음 노드 이름 리턴)\n",
    "    {\n",
    "        'explain': 'explain',           # 조건 함수가 'explain'를 리턴하면 → explain 노드로\n",
    "        'fetch_db': 'fetch_db'          # 조건 함수가 'fetch_db'를 리턴하면 → fetch_db 노드로\n",
    "    }\n",
    ")\n",
    "workflow.add_edge(\"fetch_db\", \"validation\")\n",
    "\n",
    "app = workflow.compile()"
   ]
  },
  {
   "cell_type": "code",
   "execution_count": null,
   "metadata": {},
   "outputs": [],
   "source": []
  }
 ],
 "metadata": {
  "kernelspec": {
   "display_name": ".venv",
   "language": "python",
   "name": "python3"
  },
  "language_info": {
   "codemirror_mode": {
    "name": "ipython",
    "version": 3
   },
   "file_extension": ".py",
   "mimetype": "text/x-python",
   "name": "python",
   "nbconvert_exporter": "python",
   "pygments_lexer": "ipython3",
   "version": "3.12.11"
  }
 },
 "nbformat": 4,
 "nbformat_minor": 2
}
