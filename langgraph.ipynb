{
 "cells": [
  {
   "cell_type": "code",
   "execution_count": 71,
   "metadata": {},
   "outputs": [
    {
     "data": {
      "text/plain": [
       "True"
      ]
     },
     "execution_count": 71,
     "metadata": {},
     "output_type": "execute_result"
    }
   ],
   "source": [
    "from dotenv import load_dotenv\n",
    "load_dotenv()"
   ]
  },
  {
   "cell_type": "code",
   "execution_count": 72,
   "metadata": {},
   "outputs": [],
   "source": [
    "import os\n",
    "from langchain_openai import ChatOpenAI\n",
    "from langchain_core.prompts import ChatPromptTemplate\n",
    "from langchain_core.runnables import RunnableParallel, RunnablePassthrough\n",
    "from langchain.output_parsers import StructuredOutputParser, PydanticOutputParser\n",
    "from langchain_core.output_parsers import StrOutputParser\n",
    "from langchain_community.document_loaders import PyPDFLoader\n",
    "from langchain.text_splitter import RecursiveCharacterTextSplitter\n",
    "import tempfile\n",
    "\n",
    "from typing_extensions import TypedDict, Literal\n",
    "from pydantic import BaseModel, Field\n",
    "from typing import Annotated, List, Optional, Union, Dict\n",
    "from langgraph.graph import StateGraph, START, END\n",
    "\n",
    "\n",
    "from langchain_community.document_loaders import PyPDFLoader\n",
    "import camelot\n"
   ]
  },
  {
   "cell_type": "markdown",
   "metadata": {},
   "source": [
    "### 웹에서 처리"
   ]
  },
  {
   "cell_type": "code",
   "execution_count": 73,
   "metadata": {},
   "outputs": [
    {
     "name": "stdout",
     "output_type": "stream",
     "text": [
      "pdf_text:  [p1] 정산팀-40-00083\n",
      "순번 BIN 자체카드\n",
      "구  분 발급사 기관코드 브랜드 회원구분 카드구분 카드등급 전건대행 신용대행 건별대행 할부가능\n",
      "여부\n",
      "2069 9407-57 자체 헥토파이낸셜 57 LOCAL 개인 체크 플러스 대행불가 거래중계 대행불가 할부불가\n",
      "2070 9200-57 자체 헥토파이낸셜 57 LOCAL 개인+기업 체크 플러스 대행불가 거래중계 대행불가 할부불가\n",
      "2071 5302-0035 자체 헥토파이낸셜 57 MC 개인 체크 플러스 대행불가 거래중계 대행불가 할부불가\n",
      "2072 9483-51 자체 비씨카드 50 LOCAL 개인 신용 PT 대행가능 대행가능 대행불가 할부가능\n",
      "2073 9483-52 자체 비씨카드 50 LOCAL 기업 신용 PT 대행가능 대행가능 대행불가 할부불가\n",
      "2074 5465-17 자체 비씨카드 50 MC 개인 신용 PT 대행가능 대행가능 대행불가 할부가능\n",
      "2075 5483-64 자체 비씨카드 50 MC 기업 신용 PT 대행가능 대행가능 대행불가 할부불가\n",
      "2076 5485-27 자체 수협은행 07 MC 개인 신용 PT 대행가능 대행가능 대행불가 할부가능\n",
      " * 신규고객사 \"헥토파이낸셜\" 매출표 표기 : 헥토카드\n",
      "ㅇ 일정에 따른 BIN번호 전산반영 및 회신\n",
      "ㅇ BIN자체관리 가맹점으로 BIN번호 재통지 및 반영여부 확인 요망\n",
      "  참      조 : 신용카드 담당 부서장\n",
      "비씨카드주식회사\n",
      "서울시 중구 을지로 170 을지트윈타워\n",
      "담당자 : 정산팀 이성희 대리, T: 02)520-8373, E: ssung@bccard.com\n",
      "  문서번호 : 2025-08-01\n",
      "  수      신 : 수신처 참조\n",
      "  제      목 : [비씨카드] BIN 관련 업무협조 요청\n",
      "1. 귀 사(원)의 무궁한 발전을 기원합니다.\n",
      "2. 당사 신규 BIN(Bank Identification Number) 생성에 따라 다음과 같이 요청하오니 협조하여 주시기 바랍니다.\n",
      "ㅇ 할부대행은 6개월 이내에서 가능합니다.\n",
      "3. 내  용\n",
      "      가. 신규 BIN 등록\n",
      "     ㅇ 다음의 신규 BIN은 2025.08.11(월)까지 전산반영 요청 (개발기 등록 포함)\n",
      "ㅇ 자체카드구분이 “자체브랜드”인 경우에는 ‘비씨카드’가 아니라 해당 '발급사의 자체카드'로 등록하여야 합니다.\n",
      "ㅇ 매출표 표기는 [발급사명 + 거래형태]로 표기하여 주시기 바랍니다. (Hybrid카드 반영).\n",
      "   - 체크카드는 거래형태 '체크', 신용카드는 거래형태 '신용'으로 표기\n",
      "ㅇ 기관코드는 비씨카드에서 관리하는 은행 및 카드사 코드입니다.\n",
      " 4. 요청사항\n",
      "한국정보통신㈜, ㈜케이에스넷, 나이스정보통신㈜, (사)금융결제원, 한국신용카드결제㈜, KIS정보통신㈜, 한국결제네트워크(유), ㈜코밴, ㈜나이스페이먼츠,\n",
      "㈜스마트로, ㈜다우데이타, NHNKCP(주), 코레일네트웍스㈜, ㈜섹타나인, 브이피㈜, 토스페이먼트(주) , ㈜하렉스인포텍, ㈜티머니, 농협경제지주,\n",
      "㈜케이지이니시스, ㈜이마트, ㈜이랜드, ㈜현대홈쇼핑, ㈜신세계아이앤씨 , ㈜현대백화점, ㈜티비허브  (26개)\n",
      "비 씨 카 드 주 식 회 사\n",
      "정 산 팀 장\n",
      "1\n",
      "1\n",
      "0,1,2,3,4,5,6,7,8,9,10,11,12\n",
      "순번,BIN,\"자체카드\n",
      "구  분\",발급사,기관코드,브랜드,회원구분,카드구분,카드등급,전건대행,신용대행,건별대행,\"할부가능\n",
      "여부\"\n",
      "2069,9407-57,자체,헥토파이낸셜,57,LOCAL,개인,체크,플러스,대행불가,거래중계,대행불가,할부불가\n",
      "2070,9200-57,자체,헥토파이낸셜,57,LOCAL,개인+기업,체크,플러스,대행불가,거래중계,대행불가,할부불가\n",
      "2071,5302-0035,자체,헥토파이낸셜,57,MC,개인,체크,플러스,대행불가,거래중계,대행불가,할부불가\n",
      "2072,9483-51,자체,비씨카드,50,LOCAL,개인,신용,PT,대행가능,대행가능,대행불가,할부가능\n",
      "2073,9483-52,자체,비씨카드,50,LOCAL,기업,신용,PT,대행가능,대행가능,대행불가,할부불가\n",
      "2074,5465-17,자체,비씨카드,50,MC,개인,신용,PT,대행가능,대행가능,대행불가,할부가능\n",
      "2075,5483-64,자체,비씨카드,50,MC,기업,신용,PT,대행가능,대행가능,대행불가,할부불가\n",
      "2076,5485-27,자체,수협은행,07,MC,개인,신용,PT,대행가능,대행가능,대행불가,할부가능\n",
      "\n"
     ]
    }
   ],
   "source": [
    "from langchain_community.document_loaders import PyPDFLoader\n",
    "import camelot\n",
    "\n",
    "pdf_path = \"./bin_pdf_data/BIN_업무협조_요청_VAN_20250801.pdf\"\n",
    "\n",
    "loader = PyPDFLoader(pdf_path)\n",
    "pages = loader.load() \n",
    "\n",
    "# 1) 텍스트 페이지 합치기 (너무 길면 샘플링/요약 후 단계적 호출)\n",
    "pdf_text = \"\\n\\n\".join([f\"[p{idx+1}] {d.page_content}\" for idx, d in enumerate(pages)])\n",
    "print('pdf_text: ', pdf_text)\n",
    "\n",
    "# 2)표 \n",
    "def df_to_csv(df):\n",
    "    return df.to_csv(index=False)\n",
    "\n",
    "# 표 로드 (텍스트 기반 PDF에서만)\n",
    "tables = camelot.read_pdf(pdf_path, pages=\"all\", flavor=\"lattice\")  # or 'stream'\n",
    "print(len(tables))\n",
    "dfs = [t.df for t in tables]  # 각 표를 pandas DataFrame으로\n",
    "pdf_bin = \"\\n\\n\".join([df_to_csv(df) for df in dfs]) if len(dfs) else \"N/A\"\n",
    "print(pdf_bin)\n"
   ]
  },
  {
   "cell_type": "markdown",
   "metadata": {},
   "source": [
    "### PDF에서 카드 BIN 데이터 추출"
   ]
  },
  {
   "cell_type": "code",
   "execution_count": 74,
   "metadata": {},
   "outputs": [],
   "source": [
    "from pydantic import BaseModel, Field\n",
    "from typing_extensions import TypedDict, Literal\n",
    "from typing import List, Optional\n",
    "\n",
    "# PDF 표 구조 \n",
    "class BinRow(BaseModel):\n",
    "    bin: str  = Field(description=\"BIN번호(8자리 또는 6자리)\")                                                      # BIN번호 \"8자리(또는 6자리) BIN 문자열\"\n",
    "    issuer: str = Field(description=\"발급사\")                                                                     # 발급사\n",
    "    instCd: str = Field(description=\"기관코드\")                                                                   # 기관코드\n",
    "    brand: str  = Field(description=\"브랜드사\")                                                                   # 브랜드사\n",
    "    memberType: Literal[\"개인\",\"법인\",\"개인+기업\"] = Field(description=\"회원구분\")                                   # 회원구분\n",
    "    cardType:   Literal[\"체크\", \"신용\", \"선불\"] = Field(description=\"카드구분\")                                     # 카드구분\n",
    "    cardRank:   Literal[\"플러스\", \"PT\", \"골드\", \"체크\", \"일반\", \"우량\"] = Field(description=\"대행한도등급\")           # 대행한도등급\n",
    "    agentFull:  Literal[\"Y\",\"N\"]  = Field(description=\"전건대행\")                                                 # 전건대행\n",
    "    agentCredit: Literal[\"Y\",\"N\"] = Field(description=\"신용대행\")                                                 # 신용대행\n",
    "    agentPerTxn: Literal[\"Y\",\"N\"] = Field(description=\"건별대행\")                                                 # 건별대행    \n",
    "    installmentYN: Literal[\"Y\",\"N\"] = Field(description=\"할부 가능여부\")                                           # 할부 가능여부\n",
    "\n",
    "class ExtractionResult(BaseModel):\n",
    "    rows: List[BinRow]  = []\n",
    "    notes: Optional[str]\n"
   ]
  },
  {
   "cell_type": "code",
   "execution_count": 75,
   "metadata": {},
   "outputs": [],
   "source": [
    "#parser = PydanticOutputParser(pydantic_object=ExtractionResult)\n",
    "\n",
    "#print(parser.get_format_instructions())\n",
    "\n",
    "from langchain_core.language_models import LLM\n",
    "\n",
    "\n",
    "llm = ChatOpenAI(model=\"gpt-4.1-mini\")\n",
    "structured_llm = llm.with_structured_output(ExtractionResult)\n",
    "\n",
    "\n",
    "system = \"\"\"\n",
    "당신은 카드 BIN 데이터 추출 보조자입니다.\n",
    "다음 규칙으로만 JSON을 생성하세요:\n",
    "- JSON 스키마를 엄격히 준수\n",
    "- 불확실 시 '?' 사용\n",
    "- 근거 문맥을 source_text에 200자 이내로 첨부\n",
    "- 페이지 번호를 page_ref에 기록\n",
    "\"\"\"\n",
    "\n",
    "human = \"\"\"PDF에서 추출한 BIN번호 관련 dataframe이 아래에 제공됩니다.\n",
    "BIN번호, 발급사, 기관코드, 브랜드, 회원구분, 카드구분, 카드등급, 완전대행, 신용대행, 건별대행, 할부가능여부 모두 표준화해 rows 배열로 반환하세요.\n",
    "텍스트:\n",
    "{pdf_text}\n",
    "\n",
    "표(있다면 CSV로 직렬화됨):\n",
    "{pdf_bin}\n",
    "\"\"\"\n",
    "\n",
    "prompt = ChatPromptTemplate.from_messages([\n",
    "    (\"system\", system),\n",
    "    (\"human\", human)\n",
    "])\n",
    "\n",
    "pdf_ingestion_chain = prompt | structured_llm\n",
    "result = pdf_ingestion_chain.invoke({\n",
    "    \"pdf_text\": pdf_text[:100000],  # 토큰 초과 방지\n",
    "    \"pdf_bin\": pdf_bin[:50000]\n",
    "    #\"format_instructions\": parser.get_format_instructions()\n",
    "})"
   ]
  },
  {
   "cell_type": "code",
   "execution_count": 76,
   "metadata": {},
   "outputs": [
    {
     "data": {
      "text/plain": [
       "[BinRow(bin='940757', issuer='헥토파이낸셜', instCd='57', brand='LOCAL', memberType='개인', cardType='체크', cardRank='플러스', agentFull='N', agentCredit='Y', agentPerTxn='N', installmentYN='N'),\n",
       " BinRow(bin='920057', issuer='헥토파이낸셜', instCd='57', brand='LOCAL', memberType='개인+기업', cardType='체크', cardRank='플러스', agentFull='N', agentCredit='Y', agentPerTxn='N', installmentYN='N'),\n",
       " BinRow(bin='530200', issuer='헥토파이낸셜', instCd='57', brand='MC', memberType='개인', cardType='체크', cardRank='플러스', agentFull='N', agentCredit='Y', agentPerTxn='N', installmentYN='N'),\n",
       " BinRow(bin='948351', issuer='비씨카드', instCd='50', brand='LOCAL', memberType='개인', cardType='신용', cardRank='PT', agentFull='Y', agentCredit='Y', agentPerTxn='N', installmentYN='Y'),\n",
       " BinRow(bin='948352', issuer='비씨카드', instCd='50', brand='LOCAL', memberType='법인', cardType='신용', cardRank='PT', agentFull='Y', agentCredit='Y', agentPerTxn='N', installmentYN='N'),\n",
       " BinRow(bin='546517', issuer='비씨카드', instCd='50', brand='MC', memberType='개인', cardType='신용', cardRank='PT', agentFull='Y', agentCredit='Y', agentPerTxn='N', installmentYN='Y'),\n",
       " BinRow(bin='548364', issuer='비씨카드', instCd='50', brand='MC', memberType='법인', cardType='신용', cardRank='PT', agentFull='Y', agentCredit='Y', agentPerTxn='N', installmentYN='N'),\n",
       " BinRow(bin='548527', issuer='수협은행', instCd='07', brand='MC', memberType='개인', cardType='신용', cardRank='PT', agentFull='Y', agentCredit='Y', agentPerTxn='N', installmentYN='Y')]"
      ]
     },
     "execution_count": 76,
     "metadata": {},
     "output_type": "execute_result"
    }
   ],
   "source": [
    "result.rows"
   ]
  },
  {
   "cell_type": "markdown",
   "metadata": {},
   "source": [
    "### BIN 관련 요청 및 DB 조회 필요 여부 검사"
   ]
  },
  {
   "cell_type": "code",
   "execution_count": 77,
   "metadata": {},
   "outputs": [],
   "source": [
    "# BIN관련 요청 && DB 조회 필요 여부 검사\n",
    "class NeedDBLookup(BaseModel):\n",
    "    about_bin: Literal[\"Y\", \"N\"] = Field(description=\"BIN 관련 요청인지 여부(Y or N)\")\n",
    "    need_db_lookup: Literal[\"Y\", \"N\"] = Field(description=\"DB 조회가 필요한지 여부(Y or N)\")\n",
    "    reason: str = Field(description=\"DB 조회가 필요하거나 필요하지 않은 이유\")\n",
    "\n",
    "llm = ChatOpenAI(model=\"gpt-4o-mini\", temperature=0) \n",
    "structured_llm = llm.with_structured_output(NeedDBLookup)\n",
    "\n",
    "system = \"\"\"\n",
    "당신은 사용자의 질문을 분석하여 BIN 관련 요청인지 여부와 DB 조회가 필요한지 여부를 판단하는 역할을 합니다.\n",
    "\n",
    "다음과 같은 경우에는 BIN 관련 요청이 아닙니다:\n",
    "- PDF 텍스트에 BIN 관련 내용이 없는 경우\n",
    "- 일반적인 대화나 인사\n",
    "- 개인적인 의견을 묻는 질문\n",
    "- 창의적인 내용 생성 요청\n",
    "- 간단한 계산이나 논리적 추론만 필요한 질문\n",
    "\n",
    "다음과 같은 경우에는 DB 조회가 필요하지 않습니다:\n",
    "- PDF에 존재하는 BIN의 정보만을 물어보는 경우\n",
    "- 기존에 존재하는 BIN의 정보를 물어보지 않는 경우\n",
    "- 일반적인 대화나 인사\n",
    "- 개인적인 의견을 묻는 질문\n",
    "- 창의적인 내용 생성 요청\n",
    "- 간단한 계산이나 논리적 추론만 필요한 질문\n",
    "- PDF에 있는 내용만 물어보는 경우\n",
    "\n",
    "다음과 같은 경우에는 DB 조회가 필요합니다:\n",
    "- PDF에 있는 BIN 정보를 검증해달라고 요청한 경우\n",
    "- PDF가 아닌, 기존에 존재하는 BIN 정보를 물어보는 경우\n",
    "\n",
    "또한, 질문은 입력되지 않지만 PDF 텍스트가 존재하며, PDF에 BIN정보가 존재한다면 반드시 DB 조회가 필요합니다.\n",
    "\n",
    "질문을 분석하고 문서 검색이 필요한지 여부와 그 이유를 제공해주세요.\n",
    "\"\"\"\n",
    "\n",
    "prompt = ChatPromptTemplate.from_messages([\n",
    "    (\"system\", system),\n",
    "    (\"user\", \"질문:{question}\"),\n",
    "    (\"user\", \"PDF 텍스트:{pdf_text}\"),\n",
    "    (\"user\", \"PDF에 있는 BIN 정보:{pdf_ingestion}\")\n",
    "])\n",
    "\n",
    "need_db_loopup_chain = prompt | structured_llm\n"
   ]
  },
  {
   "cell_type": "code",
   "execution_count": 78,
   "metadata": {},
   "outputs": [
    {
     "data": {
      "text/plain": [
       "NeedDBLookup(about_bin='Y', need_db_lookup='Y', reason='PDF에 있는 BIN 정보를 검증해달라고 요청하였기 때문에 DB 조회가 필요합니다.')"
      ]
     },
     "execution_count": 78,
     "metadata": {},
     "output_type": "execute_result"
    }
   ],
   "source": [
    "pdf_text = \"\"\"\n",
    "정산팀-40-00083\\n순번 BIN 자체카드\\n구  분 발급사 기관코드 브랜드 회원구분 카드구분 카드등급 전건대행 신용대행 건별대행 할부가능\\n여부\\n2069 9407-57 자체 헥토파이낸셜 57 LOCAL 개인 체크 플러스 대행불가 거래중계 대행불가 할부불가\\n2070 9200-57 자체 헥토파이낸셜 57 LOCAL 개인+기업 체크 플러스 대행불가 거래중계 대행불가 할부불가\\n2071 5302-0035 자체 헥토파이낸셜 57 MC 개인 체크 플러스 대행불가 거래중계 대행불가 할부불가\\n2072 9483-51 자체 비씨카드 50 LOCAL 개인 신용 PT 대행가능 대행가능 대행불가 할부가능\\n2073 9483-52 자체 비씨카드 50 LOCAL 기업 신용 PT 대행가능 대행가능 대행불가 할부불가\\n2074 5465-17 자체 비씨카드 50 MC 개인 신용 PT 대행가능 대행가능 대행불가 할부가능\\n2075 5483-64 자체 비씨카드 50 MC 기업 신용 PT 대행가능 대행가능 대행불가 할부불가\\n2076 5485-27 자체 수협은행 07 MC 개인 신용 PT 대행가능 대행가능 대행불가 할부가능\\n * 신규고객사 \"헥토파이낸셜\" 매출표 표기 : 헥토카드\\nㅇ 일정에 따른 BIN번호 전산반영 및 회신\\nㅇ BIN자체관리 가맹점으로 BIN번호 재통지 및 반영여부 확인 요망\\n  참      조 : 신용카드 담당 부서장\\n비씨카드주식회사\\n서울시 중구 을지로 170 을지트윈타워\\n담당자 : 정산팀 이성희 대리, T: 02)520-8373, E: ssung@bccard.com\\n  문서번호 : 2025-08-01\\n  수      신 : 수신처 참조\\n  제      목 : [비씨카드] BIN 관련 업무협조 요청\\n1.\\xa0귀 사(원)의 무궁한 발전을 기원합니다.\\n2.\\xa0당사 신규 BIN(Bank Identification Number) 생성에 따라 다음과 같이 요청하오니 협조하여 주시기 바랍니다.\\nㅇ 할부대행은 6개월 이내에서 가능합니다.\\n3. 내  용\\n      가. 신규 BIN 등록\\n     ㅇ 다음의 신규 BIN은 2025.08.11(월)까지 전산반영 요청 (개발기 등록 포함)\\nㅇ 자체카드구분이 “자체브랜드”인 경우에는 ‘비씨카드’가 아니라 해당 \\'발급사의 자체카드\\'로 등록하여야 합니다.\\nㅇ 매출표 표기는 [발급사명 + 거래형태]로 표기하여 주시기 바랍니다. (Hybrid카드 반영).\\n   - 체크카드는 거래형태 \\'체크\\', 신용카드는 거래형태 \\'신용\\'으로 표기\\nㅇ 기관코드는 비씨카드에서 관리하는 은행 및 카드사 코드입니다.\\n 4. 요청사항\\n한국정보통신㈜, ㈜케이에스넷, 나이스정보통신㈜, (사)금융결제원, 한국신용카드결제㈜, KIS정보통신㈜, 한국결제네트워크(유), ㈜코밴, ㈜나이스페이먼츠,\\n㈜스마트로, ㈜다우데이타, NHNKCP(주), 코레일네트웍스㈜, ㈜섹타나인, 브이피㈜, 토스페이먼트(주) , ㈜하렉스인포텍, ㈜티머니, 농협경제지주,\\n㈜케이지이니시스, ㈜이마트, ㈜이랜드, ㈜현대홈쇼핑, ㈜신세계아이앤씨 , ㈜현대백화점, ㈜티비허브  (26개)\\n비 씨 카 드 주 식 회 사\\n정 산 팀 장\\n\n",
    "\"\"\"\n",
    "\n",
    "question = \"PDF에 있는 BIN 정보를 검증해주세요\"\n",
    "\n",
    "pdf_bin_info = \"\"\"\n",
    "[{'card_bin': '920057', 'iss_inst_cd': '0100', 'stip_lmt_lvl_cd': '00', 'psn_corp_card_cl': '1', 'card_brand_cd': 'L', 'card_typ_cd': '1', 'mbr_cmpy_cd': '057', 'ist_psbl_yn': 'N', 'stip_psbl_yn': 'N', 'stip_ist_psbl_yn': 'N', 'wgt_cl': 'N'}]\\nVIP 콜센터 전화번호는 1566-7890입니다.\\n[BinRow(bin='940757', issuer='헥토파이낸셜', instCd='57', brand='LOCAL', memberType='개인', cardType='체크', cardRank='플러스', agentFull='N', agentCredit='N', agentPerTxn='N', installmentYN='N'),\\n BinRow(bin='920057', issuer='헥토파이낸셜', instCd='57', brand='LOCAL', memberType='개인+기업', cardType='체크', cardRank='플러스', agentFull='N', agentCredit='N', agentPerTxn='N', installmentYN='N'),\\n BinRow(bin='53020035', issuer='헥토파이낸셜', instCd='57', brand='MC', memberType='개인', cardType='체크', cardRank='플러스', agentFull='N', agentCredit='N', agentPerTxn='N', installmentYN='N'),\\n BinRow(bin='948351', issuer='비씨카드', instCd='50', brand='LOCAL', memberType='개인', cardType='신용', cardRank='PT', agentFull='Y', agentCredit='Y', agentPerTxn='N', installmentYN='Y'),\\n BinRow(bin='948352', issuer='비씨카드', instCd='50', brand='LOCAL', memberType='법인', cardType='신용', cardRank='PT', agentFull='Y', agentCredit='Y', agentPerTxn='N', installmentYN='N'),\\n BinRow(bin='546517', issuer='비씨카드', instCd='50', brand='MC', memberType='개인', cardType='신용', cardRank='PT', agentFull='Y', agentCredit='Y', agentPerTxn='N', installmentYN='Y'),\\n BinRow(bin='548364', issuer='비씨카드', instCd='50', brand='MC', memberType='법인', cardType='신용', cardRank='PT', agentFull='Y', agentCredit='Y', agentPerTxn='N', installmentYN='N'),\\n BinRow(bin='548527', issuer='수협은행', instCd='07', brand='MC', memberType='개인', cardType='신용', cardRank='PT', agentFull='Y', agentCredit='Y', agentPerTxn='N', installmentYN='Y')]\n",
    "\"\"\"\n",
    "\n",
    "need_db_loopup_chain.invoke(\n",
    "    {\"question\": question,\n",
    "     \"pdf_text\":  pdf_text, \n",
    "     \"pdf_ingestion\": result.rows\n",
    "    }\n",
    ")"
   ]
  },
  {
   "cell_type": "markdown",
   "metadata": {},
   "source": [
    "### DB 조회"
   ]
  },
  {
   "cell_type": "code",
   "execution_count": null,
   "metadata": {},
   "outputs": [],
   "source": [
    "class DBRow(BaseModel):\n",
    "    card_bin:str = Field(description=\"BIN번호(8자리 또는 6자리)\")   \n",
    "    iss_inst_cd: Field(description=\"발급사\")\n",
    "    stip_lmt_lvl_cd: Field(description=\"대행한도등급\")\n",
    "    psn_corp_card_cl: Field(description=\"회원구분\")\n",
    "    card_brand_cd: Field(description=\"브랜드\")\n",
    "    card_typ_cd: Field(description=\"카드구분\")\n",
    "    mbr_cmpy_cd: Field(description=\"기관코드\")\n",
    "    ist_psbl_yn: Field(description=\"할부가능여부\")\n",
    "    stip_psbl_yn: Field(description=\"대행가능여부\")\n",
    "    stip_ist_psbl_yn: Field(description=\"할부대행 가능여부\")\n",
    "    wgt_cl: Field(description=\"건별대행 가능능여부\")"
   ]
  },
  {
   "cell_type": "code",
   "execution_count": 92,
   "metadata": {},
   "outputs": [
    {
     "name": "stdout",
     "output_type": "stream",
     "text": [
      "bins:  ['940757', '920057', '530200', '948351', '948352', '546517', '548364', '548527']\n",
      "6\n",
      "[{'card_bin': '548364', 'iss_inst_cd': '0100', 'stip_lmt_lvl_cd': '21', 'psn_corp_card_cl': '2', 'card_brand_cd': 'M', 'card_typ_cd': '0', 'mbr_cmpy_cd': '050', 'ist_psbl_yn': 'N', 'stip_psbl_yn': 'Y', 'stip_ist_psbl_yn': 'N', 'wgt_cl': 'Y'}, {'card_bin': '548527', 'iss_inst_cd': '0202', 'stip_lmt_lvl_cd': '13', 'psn_corp_card_cl': '1', 'card_brand_cd': 'M', 'card_typ_cd': '0', 'mbr_cmpy_cd': '007', 'ist_psbl_yn': 'Y', 'stip_psbl_yn': 'Y', 'stip_ist_psbl_yn': 'Y', 'wgt_cl': 'Y'}, {'card_bin': '920057', 'iss_inst_cd': '0100', 'stip_lmt_lvl_cd': '00', 'psn_corp_card_cl': '1', 'card_brand_cd': 'L', 'card_typ_cd': '1', 'mbr_cmpy_cd': '057', 'ist_psbl_yn': 'N', 'stip_psbl_yn': 'N', 'stip_ist_psbl_yn': 'N', 'wgt_cl': 'N'}, {'card_bin': '940757', 'iss_inst_cd': '0100', 'stip_lmt_lvl_cd': '00', 'psn_corp_card_cl': '1', 'card_brand_cd': 'L', 'card_typ_cd': '1', 'mbr_cmpy_cd': '057', 'ist_psbl_yn': 'N', 'stip_psbl_yn': 'N', 'stip_ist_psbl_yn': 'N', 'wgt_cl': 'N'}, {'card_bin': '948351', 'iss_inst_cd': '0100', 'stip_lmt_lvl_cd': '13', 'psn_corp_card_cl': '1', 'card_brand_cd': 'L', 'card_typ_cd': '0', 'mbr_cmpy_cd': '050', 'ist_psbl_yn': 'Y', 'stip_psbl_yn': 'Y', 'stip_ist_psbl_yn': 'Y', 'wgt_cl': 'Y'}, {'card_bin': '948352', 'iss_inst_cd': '0100', 'stip_lmt_lvl_cd': '21', 'psn_corp_card_cl': '2', 'card_brand_cd': 'L', 'card_typ_cd': '0', 'mbr_cmpy_cd': '050', 'ist_psbl_yn': 'N', 'stip_psbl_yn': 'Y', 'stip_ist_psbl_yn': 'N', 'wgt_cl': 'Y'}]\n"
     ]
    }
   ],
   "source": [
    "from sqlalchemy import create_engine, text, bindparam  \n",
    "from sqlalchemy.engine import Engine, Result\n",
    "\n",
    "engine_url = os.getenv(\"ORACLE_ENGINE_URL\")\n",
    "engine: Engine = create_engine(engine_url, pool_pre_ping=True)  # 필요 시 echo=True\n",
    "\n",
    "\n",
    "bins = [row.bin for row in result.rows]\n",
    "print('bins: ', bins)\n",
    "stmt = text(\n",
    "    \"\"\"\n",
    "    SELECT card_bin, iss_inst_cd, stip_lmt_lvl_cd, psn_corp_card_cl, card_brand_cd, card_typ_cd, mbr_cmpy_cd, ist_psbl_yn, stip_psbl_yn, stip_ist_psbl_yn, wgt_cl\n",
    "    FROM INF_CARD_BIN\n",
    "    WHERE 1=1\n",
    "    AND TRIM(CARD_BIN) IN :bins\n",
    "    \"\"\"\n",
    ").bindparams(bindparam(\"bins\", expanding=True))\n",
    "params = {\n",
    "    \"bins\": bins\n",
    "}\n",
    "\n",
    "with engine.connect() as conn:\n",
    "    select_result: Result = conn.execute(stmt, params)\n",
    "    rows = [dict(r._mapping) for r in select_result.fetchall()]\n",
    "\n",
    "print(len(rows))\n",
    "print(rows)"
   ]
  },
  {
   "cell_type": "code",
   "execution_count": 79,
   "metadata": {},
   "outputs": [],
   "source": [
    "# LangGraph에서 쓸 상태(State) 정의입\n",
    "# 그래프가 흘러가면서 공유/업데이트되는 데이터의 스키마를 TypedDict로 정의의\n",
    "class GraphState(TypedDict):\n",
    "    question : Annotated[str, \"사용자의 질문\"]\n",
    "    pdf_text : Annotated[str, \"PDF 텍스트\"]\n",
    "    pdf_bin : Annotated[str, \"PDF BIN 정보\"]\n",
    "\n",
    "    pdf_ingestion : Annotated[str, \"PDF 텍스트 추출 결과\"]\n",
    "\n",
    "    need_db_lookup : Annotated[str, \"DB 조회 필요 여부\"]\n",
    "\n",
    "    generation : Annotated[str, \"LLM의 응답\"]"
   ]
  },
  {
   "cell_type": "markdown",
   "metadata": {},
   "source": [
    "### 노드 정의"
   ]
  },
  {
   "cell_type": "code",
   "execution_count": 25,
   "metadata": {},
   "outputs": [],
   "source": [
    "def pdf_ingestion(state:GraphState) -> GraphState:\n",
    "    print(\"PDF INGESTION....\")\n",
    "    pdf_text = state[\"pdf_text\"]\n",
    "    pdf_bin = state[\"pdf_bin\"]\n",
    "\n",
    "    pdf_ingestion_result = pdf_ingestion_chain.invoke({\n",
    "        \"pdf_text\": pdf_text,\n",
    "        \"pdf_bin\": pdf_bin\n",
    "    })\n",
    "    return {'pdf_ingestion': pdf_ingestion_result}\n",
    "\n",
    "# 전처리를 진행하고, need_db_lookup 노드로 이동\n",
    "def need_db_lookup(state:GraphState) -> GraphState:\n",
    "    print(\"NEED DB LOOKUP....\")\n",
    "    question = state[\"question\"]\n",
    "    pdf_text = state[\"pdf_text\"]\n",
    "    pdf_ingestion = state[\"pdf_ingestion\"]\n",
    "\n",
    "    need_db_lookup_result = need_db_loopup_chain.invoke({\n",
    "        \"question\": question,\n",
    "        \"pdf_text\": pdf_text,\n",
    "        \"pdf_ingestion\": pdf_ingestion\n",
    "    })\n",
    "    return {'about_bin': need_db_lookup_result.about_bin, 'need_db_lookup':need_db_lookup_result.need_db_lookup}\n",
    "\n",
    "def fetch_db(state:GraphState) -> GraphState:\n",
    "    print(\"FETCH DB....\")\n",
    "    bins = [row.bin for row in pdf_ingestion]\n",
    "    \n",
    "    \n",
    "    \n",
    "    "
   ]
  },
  {
   "cell_type": "markdown",
   "metadata": {},
   "source": [
    "### 조건부 엣지 정의"
   ]
  },
  {
   "cell_type": "code",
   "execution_count": null,
   "metadata": {},
   "outputs": [],
   "source": [
    "# 문서 검색 필요 여부 검사\n",
    "def decide_need_db_lookup(state:GraphState) -> GraphState:\n",
    "    print(\"DECISION NEED RETRIEVAL....\")\n",
    "    about_bin = state[\"about_bin\"]\n",
    "    need_db_lookup = state[\"need_db_lookup\"]\n",
    "\n",
    "    if need_db_lookup == \"N\":\n",
    "        return 'explain'\n",
    "    else:\n",
    "        return 'fetch_db'"
   ]
  },
  {
   "cell_type": "markdown",
   "metadata": {},
   "source": [
    "### 그래프 생성"
   ]
  },
  {
   "cell_type": "code",
   "execution_count": 26,
   "metadata": {},
   "outputs": [],
   "source": [
    "\n",
    "workflow = StateGraph(GraphState)\n",
    "\n",
    "workflow.add_node(\"pdf_ingestion\", pdf_ingestion)\n",
    "workflow.add_node(\"need_db_lookup\", need_db_lookup)\n",
    "\n",
    "workflow.add_edge(START, \"pdf_ingestion\")\n",
    "workflow.add_edge(pdf_ingestion, \"need_db_lookup\")\n",
    "workflow.add_conditional_edges(\n",
    "    \"need_db_lookup\",                   # 분기를 만드는 기준 노드 (need_db_lookup 노드)\n",
    "    decide_need_db_lookup,              # 조건 함수 (state를 보고 다음 노드 이름 리턴)\n",
    "    {\n",
    "        'explain': 'explain',           # 조건 함수가 'explain'를 리턴하면 → explain 노드로\n",
    "        'fetch_db': 'fetch_db'          # 조건 함수가 'fetch_db'를 리턴하면 → fetch_db 노드로\n",
    "    }\n",
    ")\n",
    "\n",
    "app = workflow.compile()"
   ]
  },
  {
   "cell_type": "code",
   "execution_count": null,
   "metadata": {},
   "outputs": [],
   "source": []
  }
 ],
 "metadata": {
  "kernelspec": {
   "display_name": ".venv",
   "language": "python",
   "name": "python3"
  },
  "language_info": {
   "codemirror_mode": {
    "name": "ipython",
    "version": 3
   },
   "file_extension": ".py",
   "mimetype": "text/x-python",
   "name": "python",
   "nbconvert_exporter": "python",
   "pygments_lexer": "ipython3",
   "version": "3.12.11"
  }
 },
 "nbformat": 4,
 "nbformat_minor": 2
}
